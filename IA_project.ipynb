{
 "cells": [
  {
   "cell_type": "markdown",
   "metadata": {},
   "source": [
    "## <font color='white'>Set-Up Libraries</font>"
   ]
  },
  {
   "cell_type": "code",
   "execution_count": 1,
   "metadata": {},
   "outputs": [],
   "source": [
    "import os\n",
    "import pandas as pd\n",
    "\n",
    "from sklearn.model_selection import train_test_split\n",
    "\n",
    "import numpy as np\n",
    "from scipy import optimize\n",
    "import matplotlib.pyplot as plt\n",
    "\n",
    "# Tells matplotlib to embed plots within the notebook\n",
    "%matplotlib inline"
   ]
  },
  {
   "cell_type": "markdown",
   "metadata": {},
   "source": [
    "---"
   ]
  },
  {
   "cell_type": "markdown",
   "metadata": {},
   "source": [
    "# <font color='black'>Data extraction and visualisation</font>"
   ]
  },
  {
   "cell_type": "markdown",
   "metadata": {},
   "source": [
    "## Clean up of the database"
   ]
  },
  {
   "cell_type": "code",
   "execution_count": 2,
   "metadata": {},
   "outputs": [],
   "source": [
    "bdd_url = \"https://paleobiodb.org/data1.2/specs/list.csv?taxon_reso=family&idqual=certain&abundance=count:20&show=full,acconly&all_records\""
   ]
  },
  {
   "cell_type": "markdown",
   "metadata": {},
   "source": [
    "Let's import the data from the csv file into the code"
   ]
  },
  {
   "cell_type": "code",
   "execution_count": 3,
   "metadata": {},
   "outputs": [],
   "source": [
    "saved_data = os.path.join('.data', 'dino_data.pickle')\n",
    "if os.path.isfile(saved_data):\n",
    "    dino = pd.read_pickle(saved_data)\n",
    "else:\n",
    "    dino = pd.read_csv(bdd_url, low_memory=False)\n",
    "    os.mkdir('.data')\n",
    "    dino.to_pickle(saved_data)"
   ]
  },
  {
   "cell_type": "code",
   "execution_count": 4,
   "metadata": {},
   "outputs": [
    {
     "data": {
      "text/html": [
       "<div>\n",
       "<style scoped>\n",
       "    .dataframe tbody tr th:only-of-type {\n",
       "        vertical-align: middle;\n",
       "    }\n",
       "\n",
       "    .dataframe tbody tr th {\n",
       "        vertical-align: top;\n",
       "    }\n",
       "\n",
       "    .dataframe thead th {\n",
       "        text-align: right;\n",
       "    }\n",
       "</style>\n",
       "<table border=\"1\" class=\"dataframe\">\n",
       "  <thead>\n",
       "    <tr style=\"text-align: right;\">\n",
       "      <th></th>\n",
       "      <th>specimen_no</th>\n",
       "      <th>record_type</th>\n",
       "      <th>flags</th>\n",
       "      <th>occurrence_no</th>\n",
       "      <th>reid_no</th>\n",
       "      <th>collection_no</th>\n",
       "      <th>specimen_id</th>\n",
       "      <th>is_type</th>\n",
       "      <th>specelt_no</th>\n",
       "      <th>specimen_side</th>\n",
       "      <th>...</th>\n",
       "      <th>collection_type</th>\n",
       "      <th>collection_methods</th>\n",
       "      <th>museum</th>\n",
       "      <th>collection_coverage</th>\n",
       "      <th>collection_size</th>\n",
       "      <th>rock_censused</th>\n",
       "      <th>collectors</th>\n",
       "      <th>collection_dates</th>\n",
       "      <th>collection_comments</th>\n",
       "      <th>taxonomy_comments</th>\n",
       "    </tr>\n",
       "  </thead>\n",
       "  <tbody>\n",
       "    <tr>\n",
       "      <th>0</th>\n",
       "      <td>115</td>\n",
       "      <td>spm</td>\n",
       "      <td>NaN</td>\n",
       "      <td>163286</td>\n",
       "      <td>0</td>\n",
       "      <td>14558</td>\n",
       "      <td>NaN</td>\n",
       "      <td>NaN</td>\n",
       "      <td>NaN</td>\n",
       "      <td>NaN</td>\n",
       "      <td>...</td>\n",
       "      <td>taxonomic</td>\n",
       "      <td>bulk,surface (float),sieve,field collection</td>\n",
       "      <td>NaN</td>\n",
       "      <td>NaN</td>\n",
       "      <td>1044 specimens</td>\n",
       "      <td>NaN</td>\n",
       "      <td>J. Storer, T. Tokaryk</td>\n",
       "      <td>1984</td>\n",
       "      <td>NaN</td>\n",
       "      <td>NaN</td>\n",
       "    </tr>\n",
       "    <tr>\n",
       "      <th>1</th>\n",
       "      <td>118</td>\n",
       "      <td>spm</td>\n",
       "      <td>NaN</td>\n",
       "      <td>163252</td>\n",
       "      <td>0</td>\n",
       "      <td>14549</td>\n",
       "      <td>NaN</td>\n",
       "      <td>NaN</td>\n",
       "      <td>NaN</td>\n",
       "      <td>NaN</td>\n",
       "      <td>...</td>\n",
       "      <td>taxonomic</td>\n",
       "      <td>bulk,surface (float),sieve,field collection</td>\n",
       "      <td>UCMP</td>\n",
       "      <td>NaN</td>\n",
       "      <td>217 specimens</td>\n",
       "      <td>NaN</td>\n",
       "      <td>NaN</td>\n",
       "      <td>NaN</td>\n",
       "      <td>NaN</td>\n",
       "      <td>this appears to actually post-date Archibald a...</td>\n",
       "    </tr>\n",
       "    <tr>\n",
       "      <th>2</th>\n",
       "      <td>636</td>\n",
       "      <td>spm</td>\n",
       "      <td>NaN</td>\n",
       "      <td>163293</td>\n",
       "      <td>0</td>\n",
       "      <td>14558</td>\n",
       "      <td>NaN</td>\n",
       "      <td>NaN</td>\n",
       "      <td>NaN</td>\n",
       "      <td>NaN</td>\n",
       "      <td>...</td>\n",
       "      <td>taxonomic</td>\n",
       "      <td>bulk,surface (float),sieve,field collection</td>\n",
       "      <td>NaN</td>\n",
       "      <td>NaN</td>\n",
       "      <td>1044 specimens</td>\n",
       "      <td>NaN</td>\n",
       "      <td>J. Storer, T. Tokaryk</td>\n",
       "      <td>1984</td>\n",
       "      <td>NaN</td>\n",
       "      <td>NaN</td>\n",
       "    </tr>\n",
       "    <tr>\n",
       "      <th>3</th>\n",
       "      <td>640</td>\n",
       "      <td>spm</td>\n",
       "      <td>NaN</td>\n",
       "      <td>163415</td>\n",
       "      <td>0</td>\n",
       "      <td>14585</td>\n",
       "      <td>NaN</td>\n",
       "      <td>NaN</td>\n",
       "      <td>NaN</td>\n",
       "      <td>NaN</td>\n",
       "      <td>...</td>\n",
       "      <td>general faunal/floral</td>\n",
       "      <td>bulk,surface (float),sieve,field collection</td>\n",
       "      <td>UCMP</td>\n",
       "      <td>NaN</td>\n",
       "      <td>NaN</td>\n",
       "      <td>NaN</td>\n",
       "      <td>W. A. Clemens</td>\n",
       "      <td>NaN</td>\n",
       "      <td>NaN</td>\n",
       "      <td>this is NOT Hatcher's locality No. 2, which is...</td>\n",
       "    </tr>\n",
       "    <tr>\n",
       "      <th>4</th>\n",
       "      <td>651</td>\n",
       "      <td>spm</td>\n",
       "      <td>NaN</td>\n",
       "      <td>163416</td>\n",
       "      <td>0</td>\n",
       "      <td>14585</td>\n",
       "      <td>NaN</td>\n",
       "      <td>NaN</td>\n",
       "      <td>NaN</td>\n",
       "      <td>NaN</td>\n",
       "      <td>...</td>\n",
       "      <td>general faunal/floral</td>\n",
       "      <td>bulk,surface (float),sieve,field collection</td>\n",
       "      <td>UCMP</td>\n",
       "      <td>NaN</td>\n",
       "      <td>NaN</td>\n",
       "      <td>NaN</td>\n",
       "      <td>W. A. Clemens</td>\n",
       "      <td>NaN</td>\n",
       "      <td>NaN</td>\n",
       "      <td>this is NOT Hatcher's locality No. 2, which is...</td>\n",
       "    </tr>\n",
       "  </tbody>\n",
       "</table>\n",
       "<p>5 rows × 100 columns</p>\n",
       "</div>"
      ],
      "text/plain": [
       "   specimen_no record_type  flags  occurrence_no  reid_no  collection_no  \\\n",
       "0          115         spm    NaN         163286        0          14558   \n",
       "1          118         spm    NaN         163252        0          14549   \n",
       "2          636         spm    NaN         163293        0          14558   \n",
       "3          640         spm    NaN         163415        0          14585   \n",
       "4          651         spm    NaN         163416        0          14585   \n",
       "\n",
       "  specimen_id is_type  specelt_no specimen_side  ...        collection_type  \\\n",
       "0         NaN     NaN         NaN           NaN  ...              taxonomic   \n",
       "1         NaN     NaN         NaN           NaN  ...              taxonomic   \n",
       "2         NaN     NaN         NaN           NaN  ...              taxonomic   \n",
       "3         NaN     NaN         NaN           NaN  ...  general faunal/floral   \n",
       "4         NaN     NaN         NaN           NaN  ...  general faunal/floral   \n",
       "\n",
       "                            collection_methods  museum collection_coverage  \\\n",
       "0  bulk,surface (float),sieve,field collection     NaN                 NaN   \n",
       "1  bulk,surface (float),sieve,field collection    UCMP                 NaN   \n",
       "2  bulk,surface (float),sieve,field collection     NaN                 NaN   \n",
       "3  bulk,surface (float),sieve,field collection    UCMP                 NaN   \n",
       "4  bulk,surface (float),sieve,field collection    UCMP                 NaN   \n",
       "\n",
       "   collection_size rock_censused             collectors collection_dates  \\\n",
       "0   1044 specimens           NaN  J. Storer, T. Tokaryk             1984   \n",
       "1    217 specimens           NaN                    NaN              NaN   \n",
       "2   1044 specimens           NaN  J. Storer, T. Tokaryk             1984   \n",
       "3              NaN           NaN          W. A. Clemens              NaN   \n",
       "4              NaN           NaN          W. A. Clemens              NaN   \n",
       "\n",
       "   collection_comments                                  taxonomy_comments  \n",
       "0                  NaN                                                NaN  \n",
       "1                  NaN  this appears to actually post-date Archibald a...  \n",
       "2                  NaN                                                NaN  \n",
       "3                  NaN  this is NOT Hatcher's locality No. 2, which is...  \n",
       "4                  NaN  this is NOT Hatcher's locality No. 2, which is...  \n",
       "\n",
       "[5 rows x 100 columns]"
      ]
     },
     "execution_count": 4,
     "metadata": {},
     "output_type": "execute_result"
    }
   ],
   "source": [
    "dino.head()"
   ]
  },
  {
   "cell_type": "code",
   "execution_count": 5,
   "metadata": {},
   "outputs": [
    {
     "name": "stdout",
     "output_type": "stream",
     "text": [
      "<class 'pandas.core.frame.DataFrame'>\n",
      "RangeIndex: 12181 entries, 0 to 12180\n",
      "Data columns (total 100 columns):\n",
      " #   Column               Non-Null Count  Dtype  \n",
      "---  ------               --------------  -----  \n",
      " 0   specimen_no          12181 non-null  int64  \n",
      " 1   record_type          12181 non-null  object \n",
      " 2   flags                0 non-null      float64\n",
      " 3   occurrence_no        12181 non-null  int64  \n",
      " 4   reid_no              12181 non-null  int64  \n",
      " 5   collection_no        12181 non-null  int64  \n",
      " 6   specimen_id          10520 non-null  object \n",
      " 7   is_type              2390 non-null   object \n",
      " 8   specelt_no           0 non-null      float64\n",
      " 9   specimen_side        2438 non-null   object \n",
      " 10  specimen_part        11780 non-null  object \n",
      " 11  specimen_sex         202 non-null    object \n",
      " 12  n_measured           12181 non-null  int64  \n",
      " 13  measurement_source   10966 non-null  object \n",
      " 14  magnification        338 non-null    float64\n",
      " 15  comments             740 non-null    object \n",
      " 16  accepted_name        12181 non-null  object \n",
      " 17  accepted_rank        12181 non-null  object \n",
      " 18  accepted_no          12181 non-null  int64  \n",
      " 19  max_ma               12181 non-null  float64\n",
      " 20  min_ma               12181 non-null  float64\n",
      " 21  ref_author           12181 non-null  object \n",
      " 22  ref_pubyr            12181 non-null  int64  \n",
      " 23  reference_no         12181 non-null  int64  \n",
      " 24  phylum               12181 non-null  object \n",
      " 25  class                12181 non-null  object \n",
      " 26  order                12181 non-null  object \n",
      " 27  family               12181 non-null  object \n",
      " 28  genus                12175 non-null  object \n",
      " 29  plant_organ          0 non-null      float64\n",
      " 30  plant_organ2         0 non-null      float64\n",
      " 31  taxon_environment    1601 non-null   object \n",
      " 32  environment_basis    0 non-null      float64\n",
      " 33  motility             12181 non-null  object \n",
      " 34  life_habit           10416 non-null  object \n",
      " 35  vision               10978 non-null  object \n",
      " 36  diet                 10803 non-null  object \n",
      " 37  reproduction         409 non-null    object \n",
      " 38  ontogeny             233 non-null    object \n",
      " 39  ecospace_comments    5 non-null      object \n",
      " 40  composition          11988 non-null  object \n",
      " 41  architecture         85 non-null     object \n",
      " 42  thickness            96 non-null     object \n",
      " 43  reinforcement        235 non-null    object \n",
      " 44  abund_value          12181 non-null  int64  \n",
      " 45  abund_unit           12181 non-null  object \n",
      " 46  collection_name      12181 non-null  object \n",
      " 47  collection_subset    41 non-null     float64\n",
      " 48  collection_aka       769 non-null    object \n",
      " 49  lng                  12181 non-null  float64\n",
      " 50  lat                  12181 non-null  float64\n",
      " 51  cc                   12181 non-null  object \n",
      " 52  state                5098 non-null   object \n",
      " 53  county               1293 non-null   object \n",
      " 54  latlng_basis         12088 non-null  object \n",
      " 55  latlng_precision     12181 non-null  object \n",
      " 56  geogscale            11934 non-null  object \n",
      " 57  geogcomments         8423 non-null   object \n",
      " 58  paleomodel           12181 non-null  object \n",
      " 59  paleolng             12021 non-null  float64\n",
      " 60  paleolat             12021 non-null  float64\n",
      " 61  geoplate             12181 non-null  object \n",
      " 62  cc.1                 12181 non-null  object \n",
      " 63  protected            650 non-null    object \n",
      " 64  formation            8189 non-null   object \n",
      " 65  stratgroup           2195 non-null   object \n",
      " 66  member               1749 non-null   object \n",
      " 67  stratscale           11472 non-null  object \n",
      " 68  zone                 1467 non-null   object \n",
      " 69  localsection         779 non-null    object \n",
      " 70  localbed             804 non-null    object \n",
      " 71  localorder           779 non-null    object \n",
      " 72  regionalsection      10 non-null     object \n",
      " 73  regionalbed          10 non-null     object \n",
      " 74  regionalorder        10 non-null     object \n",
      " 75  stratcomments        7123 non-null   object \n",
      " 76  lithdescript         5822 non-null   object \n",
      " 77  lithology1           12129 non-null  object \n",
      " 78  lithadj1             3896 non-null   object \n",
      " 79  lithification1       10049 non-null  object \n",
      " 80  minor_lithology1     3656 non-null   object \n",
      " 81  fossilsfrom1         3207 non-null   object \n",
      " 82  lithology2           1553 non-null   object \n",
      " 83  lithadj2             1021 non-null   object \n",
      " 84  lithification2       808 non-null    object \n",
      " 85  minor_lithology2     458 non-null    object \n",
      " 86  fossilsfrom2         600 non-null    object \n",
      " 87  environment          12147 non-null  object \n",
      " 88  tectonic_setting     1019 non-null   object \n",
      " 89  geology_comments     3084 non-null   object \n",
      " 90  collection_type      12138 non-null  object \n",
      " 91  collection_methods   9808 non-null   object \n",
      " 92  museum               3397 non-null   object \n",
      " 93  collection_coverage  7109 non-null   object \n",
      " 94  collection_size      302 non-null    object \n",
      " 95  rock_censused        82 non-null     object \n",
      " 96  collectors           2469 non-null   object \n",
      " 97  collection_dates     1646 non-null   object \n",
      " 98  collection_comments  3109 non-null   object \n",
      " 99  taxonomy_comments    2552 non-null   object \n",
      "dtypes: float64(13), int64(9), object(78)\n",
      "memory usage: 9.3+ MB\n"
     ]
    }
   ],
   "source": [
    "dino.info()"
   ]
  },
  {
   "cell_type": "markdown",
   "metadata": {},
   "source": [
    "We can see a lot of column that have null or missing values. Thoses will not bu useful for the study, we delete those. We can also see some other columns that do not have any influence on the specimen, such as the authors, the publication date, etc.. We also delete those. This database is quite complete. We also need to think about the fact that a newly discovered fossile would not necessarily contains all these infos. We delete a few more columns.\n",
    "\n",
    "We also notice \"geoplate\". As we don't know what is it corresponding to, we prefer to remove it. Motility, life_habit, vision and diet are not data that can be collected on the fossile so we remove it as well.\n",
    "\n",
    "We remove specimen_part because sometimes it can be quite hard to distinguate when finding a new fossile."
   ]
  },
  {
   "cell_type": "code",
   "execution_count": 6,
   "metadata": {
    "scrolled": true
   },
   "outputs": [],
   "source": [
    "dino = dino.drop(['specimen_part', 'specimen_no', 'occurrence_no', 'collection_no', 'accepted_no', 'abund_unit', 'abund_value', 'n_measured', 'reid_no', 'record_type', 'collection_type', 'collection_methods', 'stratscale', 'cc', 'cc.1', 'paleomodel', 'geogscale', 'latlng_precision', 'latlng_basis', 'collection_name', 'reference_no', 'ref_author', 'ref_pubyr', 'accepted_rank', 'accepted_name', 'measurement_source', 'specimen_id', 'is_type', 'specimen_side', 'flags', 'specelt_no', 'specimen_sex', 'magnification', 'comments', 'plant_organ', 'plant_organ2', 'taxon_environment', 'environment_basis', 'reproduction', 'ontogeny', 'ecospace_comments', 'architecture', 'thickness', 'reinforcement', 'collection_subset', 'collection_aka', 'state', 'county', 'geogcomments', 'protected', 'formation', 'stratgroup', 'member', 'zone', 'localsection', 'localbed', 'localorder', 'regionalsection', 'regionalbed', 'regionalorder', 'stratcomments', 'lithdescript', 'lithadj1', 'minor_lithology1', 'fossilsfrom1', 'lithology2', 'lithadj2', 'lithification2', 'minor_lithology2', 'fossilsfrom2', 'tectonic_setting', 'geology_comments', 'museum', 'collection_coverage', 'collection_size', 'rock_censused', 'collectors', 'collection_dates', 'collection_comments', 'taxonomy_comments', \"motility\", \"life_habit\", \"vision\", \"diet\"], axis=1)"
   ]
  },
  {
   "cell_type": "code",
   "execution_count": 7,
   "metadata": {
    "scrolled": true
   },
   "outputs": [
    {
     "name": "stdout",
     "output_type": "stream",
     "text": [
      "<class 'pandas.core.frame.DataFrame'>\n",
      "RangeIndex: 12181 entries, 0 to 12180\n",
      "Data columns (total 16 columns):\n",
      " #   Column          Non-Null Count  Dtype  \n",
      "---  ------          --------------  -----  \n",
      " 0   max_ma          12181 non-null  float64\n",
      " 1   min_ma          12181 non-null  float64\n",
      " 2   phylum          12181 non-null  object \n",
      " 3   class           12181 non-null  object \n",
      " 4   order           12181 non-null  object \n",
      " 5   family          12181 non-null  object \n",
      " 6   genus           12175 non-null  object \n",
      " 7   composition     11988 non-null  object \n",
      " 8   lng             12181 non-null  float64\n",
      " 9   lat             12181 non-null  float64\n",
      " 10  paleolng        12021 non-null  float64\n",
      " 11  paleolat        12021 non-null  float64\n",
      " 12  geoplate        12181 non-null  object \n",
      " 13  lithology1      12129 non-null  object \n",
      " 14  lithification1  10049 non-null  object \n",
      " 15  environment     12147 non-null  object \n",
      "dtypes: float64(6), object(10)\n",
      "memory usage: 1.5+ MB\n"
     ]
    }
   ],
   "source": [
    "dino.info()"
   ]
  },
  {
   "cell_type": "markdown",
   "metadata": {},
   "source": [
    "We'll now remove the specimen with missing features"
   ]
  },
  {
   "cell_type": "code",
   "execution_count": 8,
   "metadata": {},
   "outputs": [],
   "source": [
    "dino = dino.dropna()"
   ]
  },
  {
   "cell_type": "markdown",
   "metadata": {},
   "source": [
    "We're looking for one of the following: phylum, class, order, family, genus. If we're looking for the phylum, we delete the others"
   ]
  },
  {
   "cell_type": "code",
   "execution_count": 9,
   "metadata": {},
   "outputs": [],
   "source": [
    "used_type = \"phylum\""
   ]
  },
  {
   "cell_type": "code",
   "execution_count": 10,
   "metadata": {
    "scrolled": true
   },
   "outputs": [
    {
     "data": {
      "text/plain": [
       "Mollusca       4664\n",
       "Brachiopoda    4112\n",
       "Arthropoda      950\n",
       "Chordata         26\n",
       "Name: phylum, dtype: int64"
      ]
     },
     "execution_count": 10,
     "metadata": {},
     "output_type": "execute_result"
    }
   ],
   "source": [
    "dino[used_type].value_counts()"
   ]
  },
  {
   "cell_type": "code",
   "execution_count": 11,
   "metadata": {},
   "outputs": [],
   "source": [
    "all_types = [\"phylum\", \"class\", \"order\", \"family\", \"genus\"]\n",
    "all_types.remove(used_type)\n",
    "dino = dino.drop(all_types, axis=1)\n",
    "\n",
    "nb_attr = len(dino[used_type].value_counts())"
   ]
  },
  {
   "cell_type": "markdown",
   "metadata": {},
   "source": [
    "It can be useful to take a look at the different values the objects can take."
   ]
  },
  {
   "cell_type": "code",
   "execution_count": 12,
   "metadata": {},
   "outputs": [
    {
     "name": "stdout",
     "output_type": "stream",
     "text": [
      "<class 'pandas.core.frame.DataFrame'>\n",
      "Int64Index: 9752 entries, 31 to 12072\n",
      "Data columns (total 12 columns):\n",
      " #   Column          Non-Null Count  Dtype  \n",
      "---  ------          --------------  -----  \n",
      " 0   max_ma          9752 non-null   float64\n",
      " 1   min_ma          9752 non-null   float64\n",
      " 2   phylum          9752 non-null   object \n",
      " 3   composition     9752 non-null   object \n",
      " 4   lng             9752 non-null   float64\n",
      " 5   lat             9752 non-null   float64\n",
      " 6   paleolng        9752 non-null   float64\n",
      " 7   paleolat        9752 non-null   float64\n",
      " 8   geoplate        9752 non-null   object \n",
      " 9   lithology1      9752 non-null   object \n",
      " 10  lithification1  9752 non-null   object \n",
      " 11  environment     9752 non-null   object \n",
      "dtypes: float64(6), object(6)\n",
      "memory usage: 990.4+ KB\n"
     ]
    }
   ],
   "source": [
    "dino.info()"
   ]
  },
  {
   "cell_type": "code",
   "execution_count": 13,
   "metadata": {},
   "outputs": [
    {
     "data": {
      "text/html": [
       "<div>\n",
       "<style scoped>\n",
       "    .dataframe tbody tr th:only-of-type {\n",
       "        vertical-align: middle;\n",
       "    }\n",
       "\n",
       "    .dataframe tbody tr th {\n",
       "        vertical-align: top;\n",
       "    }\n",
       "\n",
       "    .dataframe thead th {\n",
       "        text-align: right;\n",
       "    }\n",
       "</style>\n",
       "<table border=\"1\" class=\"dataframe\">\n",
       "  <thead>\n",
       "    <tr style=\"text-align: right;\">\n",
       "      <th></th>\n",
       "      <th>max_ma</th>\n",
       "      <th>min_ma</th>\n",
       "      <th>lng</th>\n",
       "      <th>lat</th>\n",
       "      <th>paleolng</th>\n",
       "      <th>paleolat</th>\n",
       "    </tr>\n",
       "  </thead>\n",
       "  <tbody>\n",
       "    <tr>\n",
       "      <th>count</th>\n",
       "      <td>9752.000000</td>\n",
       "      <td>9752.000000</td>\n",
       "      <td>9752.000000</td>\n",
       "      <td>9752.000000</td>\n",
       "      <td>9752.000000</td>\n",
       "      <td>9752.000000</td>\n",
       "    </tr>\n",
       "    <tr>\n",
       "      <th>mean</th>\n",
       "      <td>239.212897</td>\n",
       "      <td>233.349418</td>\n",
       "      <td>8.097060</td>\n",
       "      <td>27.135280</td>\n",
       "      <td>23.539004</td>\n",
       "      <td>0.878599</td>\n",
       "    </tr>\n",
       "    <tr>\n",
       "      <th>std</th>\n",
       "      <td>70.882155</td>\n",
       "      <td>70.695724</td>\n",
       "      <td>80.623424</td>\n",
       "      <td>25.554858</td>\n",
       "      <td>57.398176</td>\n",
       "      <td>31.328881</td>\n",
       "    </tr>\n",
       "    <tr>\n",
       "      <th>min</th>\n",
       "      <td>0.011700</td>\n",
       "      <td>0.000000</td>\n",
       "      <td>-124.864998</td>\n",
       "      <td>-45.906330</td>\n",
       "      <td>-169.240000</td>\n",
       "      <td>-89.010000</td>\n",
       "    </tr>\n",
       "    <tr>\n",
       "      <th>25%</th>\n",
       "      <td>208.500000</td>\n",
       "      <td>201.300000</td>\n",
       "      <td>-76.116669</td>\n",
       "      <td>7.386000</td>\n",
       "      <td>-31.040000</td>\n",
       "      <td>-23.770000</td>\n",
       "    </tr>\n",
       "    <tr>\n",
       "      <th>50%</th>\n",
       "      <td>265.100000</td>\n",
       "      <td>259.900000</td>\n",
       "      <td>16.123182</td>\n",
       "      <td>35.394722</td>\n",
       "      <td>28.340000</td>\n",
       "      <td>3.460000</td>\n",
       "    </tr>\n",
       "    <tr>\n",
       "      <th>75%</th>\n",
       "      <td>279.300000</td>\n",
       "      <td>272.300000</td>\n",
       "      <td>70.001663</td>\n",
       "      <td>46.340000</td>\n",
       "      <td>53.250000</td>\n",
       "      <td>26.940000</td>\n",
       "    </tr>\n",
       "    <tr>\n",
       "      <th>max</th>\n",
       "      <td>388.100000</td>\n",
       "      <td>383.700000</td>\n",
       "      <td>170.980576</td>\n",
       "      <td>81.070000</td>\n",
       "      <td>167.790000</td>\n",
       "      <td>85.570000</td>\n",
       "    </tr>\n",
       "  </tbody>\n",
       "</table>\n",
       "</div>"
      ],
      "text/plain": [
       "            max_ma       min_ma          lng          lat     paleolng  \\\n",
       "count  9752.000000  9752.000000  9752.000000  9752.000000  9752.000000   \n",
       "mean    239.212897   233.349418     8.097060    27.135280    23.539004   \n",
       "std      70.882155    70.695724    80.623424    25.554858    57.398176   \n",
       "min       0.011700     0.000000  -124.864998   -45.906330  -169.240000   \n",
       "25%     208.500000   201.300000   -76.116669     7.386000   -31.040000   \n",
       "50%     265.100000   259.900000    16.123182    35.394722    28.340000   \n",
       "75%     279.300000   272.300000    70.001663    46.340000    53.250000   \n",
       "max     388.100000   383.700000   170.980576    81.070000   167.790000   \n",
       "\n",
       "          paleolat  \n",
       "count  9752.000000  \n",
       "mean      0.878599  \n",
       "std      31.328881  \n",
       "min     -89.010000  \n",
       "25%     -23.770000  \n",
       "50%       3.460000  \n",
       "75%      26.940000  \n",
       "max      85.570000  "
      ]
     },
     "execution_count": 13,
     "metadata": {},
     "output_type": "execute_result"
    }
   ],
   "source": [
    "dino.describe()"
   ]
  },
  {
   "cell_type": "code",
   "execution_count": 14,
   "metadata": {
    "scrolled": false
   },
   "outputs": [
    {
     "data": {
      "image/png": "[encoded data removed]",
      "text/plain": [
       "<Figure size 1440x1080 with 6 Axes>"
      ]
     },
     "metadata": {
      "needs_background": "light"
     },
     "output_type": "display_data"
    }
   ],
   "source": [
    "dino.hist(bins=50, figsize=(20,15))\n",
    "plt.show()"
   ]
  },
  {
   "cell_type": "markdown",
   "metadata": {},
   "source": [
    "## Visualize the Data"
   ]
  },
  {
   "cell_type": "code",
   "execution_count": 15,
   "metadata": {},
   "outputs": [
    {
     "data": {
      "text/plain": [
       "<AxesSubplot:xlabel='paleolng', ylabel='paleolat'>"
      ]
     },
     "execution_count": 15,
     "metadata": {},
     "output_type": "execute_result"
    },
    {
     "data": {
      "image/png": "[encoded data removed]",
      "text/plain": [
       "<Figure size 432x288 with 1 Axes>"
      ]
     },
     "metadata": {
      "needs_background": "light"
     },
     "output_type": "display_data"
    }
   ],
   "source": [
    "dino.plot(kind=\"scatter\", x='paleolng', y='paleolat', alpha=0.1)"
   ]
  },
  {
   "cell_type": "markdown",
   "metadata": {},
   "source": [
    "## Looking for correlations"
   ]
  },
  {
   "cell_type": "code",
   "execution_count": 16,
   "metadata": {},
   "outputs": [
    {
     "data": {
      "text/plain": [
       "paleolng    1.000000\n",
       "lng         0.823227\n",
       "lat         0.167487\n",
       "min_ma      0.047496\n",
       "max_ma      0.040542\n",
       "paleolat    0.006160\n",
       "Name: paleolng, dtype: float64"
      ]
     },
     "execution_count": 16,
     "metadata": {},
     "output_type": "execute_result"
    }
   ],
   "source": [
    "corr_matrix = dino.corr()\n",
    "\n",
    "corr_matrix[\"paleolng\"].sort_values(ascending=False)"
   ]
  },
  {
   "cell_type": "code",
   "execution_count": 17,
   "metadata": {
    "scrolled": true
   },
   "outputs": [
    {
     "data": {
      "text/plain": [
       "array([[<AxesSubplot:xlabel='lng', ylabel='lng'>,\n",
       "        <AxesSubplot:xlabel='lat', ylabel='lng'>,\n",
       "        <AxesSubplot:xlabel='paleolng', ylabel='lng'>,\n",
       "        <AxesSubplot:xlabel='paleolat', ylabel='lng'>],\n",
       "       [<AxesSubplot:xlabel='lng', ylabel='lat'>,\n",
       "        <AxesSubplot:xlabel='lat', ylabel='lat'>,\n",
       "        <AxesSubplot:xlabel='paleolng', ylabel='lat'>,\n",
       "        <AxesSubplot:xlabel='paleolat', ylabel='lat'>],\n",
       "       [<AxesSubplot:xlabel='lng', ylabel='paleolng'>,\n",
       "        <AxesSubplot:xlabel='lat', ylabel='paleolng'>,\n",
       "        <AxesSubplot:xlabel='paleolng', ylabel='paleolng'>,\n",
       "        <AxesSubplot:xlabel='paleolat', ylabel='paleolng'>],\n",
       "       [<AxesSubplot:xlabel='lng', ylabel='paleolat'>,\n",
       "        <AxesSubplot:xlabel='lat', ylabel='paleolat'>,\n",
       "        <AxesSubplot:xlabel='paleolng', ylabel='paleolat'>,\n",
       "        <AxesSubplot:xlabel='paleolat', ylabel='paleolat'>]], dtype=object)"
      ]
     },
     "execution_count": 17,
     "metadata": {},
     "output_type": "execute_result"
    },
    {
     "data": {
      "image/png": "[encoded data removed]",
      "text/plain": [
       "<Figure size 864x576 with 16 Axes>"
      ]
     },
     "metadata": {
      "needs_background": "light"
     },
     "output_type": "display_data"
    }
   ],
   "source": [
    "from pandas.plotting import scatter_matrix\n",
    "\n",
    "attributes = [\"lng\", \"lat\", \"paleolng\", \"paleolat\"]\n",
    "scatter_matrix(dino[attributes], figsize=(12, 8))\n"
   ]
  },
  {
   "cell_type": "markdown",
   "metadata": {},
   "source": [
    "As longitude and latitude are highly correlated to paleolng and paleolat, we remove those from the dataset. "
   ]
  },
  {
   "cell_type": "code",
   "execution_count": 18,
   "metadata": {},
   "outputs": [],
   "source": [
    "dino = dino.drop([\"lng\", \"lat\"], axis=1)"
   ]
  },
  {
   "cell_type": "markdown",
   "metadata": {},
   "source": [
    "## Transformations"
   ]
  },
  {
   "cell_type": "code",
   "execution_count": 19,
   "metadata": {},
   "outputs": [],
   "source": [
    "dino_labels = dino[[used_type]].copy()\n",
    "dino = dino.drop(used_type, axis=1)"
   ]
  },
  {
   "cell_type": "markdown",
   "metadata": {},
   "source": [
    "In the next steps, we'll first apply a feature scaling on the numerical data. It is done because ML algorithms don't preform well when the input numerical attributes have very different scales. We'll use the MinMaxScaling to normalize the data. After this step is done, we'll handle the categorical attributes using the OneHotEncoder from sklearn. This encoder will put only one attribute to 1 while all the others are put to 0. It'll also create new \"dummy\" attributes. (One for each of the values taken by the categorical attribute)"
   ]
  },
  {
   "cell_type": "code",
   "execution_count": 20,
   "metadata": {},
   "outputs": [],
   "source": [
    "from sklearn.preprocessing import OneHotEncoder, StandardScaler\n",
    "from sklearn.pipeline import Pipeline\n",
    "from sklearn.compose import ColumnTransformer\n",
    "encoder_label = OneHotEncoder()\n",
    "\n",
    "# Get all numerical and categorical attributes\n",
    "num_attributes = ['paleolat', 'paleolng', 'max_ma', 'min_ma']\n",
    "cat_attributes = ['composition', 'lithology1', 'lithification1', 'environment']\n",
    "\n",
    "pipeline = ColumnTransformer([\n",
    "    (\"num\", StandardScaler(), num_attributes), \n",
    "    (\"cat\", OneHotEncoder(), cat_attributes),\n",
    "])\n",
    "\n",
    "dino_prep = pipeline.fit_transform(dino)\n",
    "dino_labels_prep = encoder_label.fit_transform(dino_labels).toarray()"
   ]
  },
  {
   "cell_type": "markdown",
   "metadata": {},
   "source": [
    "## Create test set"
   ]
  },
  {
   "cell_type": "markdown",
   "metadata": {},
   "source": [
    "TODO: Explain 20% test set + why we are using one"
   ]
  },
  {
   "cell_type": "code",
   "execution_count": 21,
   "metadata": {
    "scrolled": true
   },
   "outputs": [
    {
     "name": "stdout",
     "output_type": "stream",
     "text": [
      "Number of features: 89\n",
      "Number of output classes: 4\n",
      "Size of the train set: 7801\n",
      "Size of the test set: 1951\n"
     ]
    }
   ],
   "source": [
    "train_set, test_set, train_labels, test_labels = train_test_split(dino_prep, dino_labels_prep, test_size=0.2, random_state=42)\n",
    "print(f\"Number of features: {train_set.shape[1]}\")\n",
    "print(f\"Number of output classes: {train_labels.shape[1]}\")\n",
    "print(f\"Size of the train set: {train_set.shape[0]}\")\n",
    "print(f\"Size of the test set: {test_set.shape[0]}\")"
   ]
  },
  {
   "cell_type": "markdown",
   "metadata": {},
   "source": [
    "# Create and test a Machine Learning model"
   ]
  },
  {
   "cell_type": "markdown",
   "metadata": {},
   "source": [
    "Those three variables are the number of neurons in each layer of the network. The first layer has the same size that the number of feature. The neural network has one output corresponding to each class and it will be constructed with only one hidden layer which have a size equal to the mean of the input and the output."
   ]
  },
  {
   "cell_type": "code",
   "execution_count": 22,
   "metadata": {},
   "outputs": [],
   "source": [
    "first_layer = train_set.shape[1]\n",
    "mid_layer = int((first_layer + nb_attr) / 2)\n",
    "final_layer = nb_attr"
   ]
  },
  {
   "cell_type": "markdown",
   "metadata": {},
   "source": [
    "## Using sklearn"
   ]
  },
  {
   "cell_type": "markdown",
   "metadata": {},
   "source": [
    "_Note: We are using sklearn only for comparison purpose, none of the results will be used later._\n",
    "\n",
    "First we create a basic classifier using perceptrons and train it using the fit method."
   ]
  },
  {
   "cell_type": "code",
   "execution_count": 23,
   "metadata": {},
   "outputs": [
    {
     "data": {
      "text/html": [
       "<style>#sk-container-id-1 {color: black;background-color: white;}#sk-container-id-1 pre{padding: 0;}#sk-container-id-1 div.sk-toggleable {background-color: white;}#sk-container-id-1 label.sk-toggleable__label {cursor: pointer;display: block;width: 100%;margin-bottom: 0;padding: 0.3em;box-sizing: border-box;text-align: center;}#sk-container-id-1 label.sk-toggleable__label-arrow:before {content: \"▸\";float: left;margin-right: 0.25em;color: #696969;}#sk-container-id-1 label.sk-toggleable__label-arrow:hover:before {color: black;}#sk-container-id-1 div.sk-estimator:hover label.sk-toggleable__label-arrow:before {color: black;}#sk-container-id-1 div.sk-toggleable__content {max-height: 0;max-width: 0;overflow: hidden;text-align: left;background-color: #f0f8ff;}#sk-container-id-1 div.sk-toggleable__content pre {margin: 0.2em;color: black;border-radius: 0.25em;background-color: #f0f8ff;}#sk-container-id-1 input.sk-toggleable__control:checked~div.sk-toggleable__content {max-height: 200px;max-width: 100%;overflow: auto;}#sk-container-id-1 input.sk-toggleable__control:checked~label.sk-toggleable__label-arrow:before {content: \"▾\";}#sk-container-id-1 div.sk-estimator input.sk-toggleable__control:checked~label.sk-toggleable__label {background-color: #d4ebff;}#sk-container-id-1 div.sk-label input.sk-toggleable__control:checked~label.sk-toggleable__label {background-color: #d4ebff;}#sk-container-id-1 input.sk-hidden--visually {border: 0;clip: rect(1px 1px 1px 1px);clip: rect(1px, 1px, 1px, 1px);height: 1px;margin: -1px;overflow: hidden;padding: 0;position: absolute;width: 1px;}#sk-container-id-1 div.sk-estimator {font-family: monospace;background-color: #f0f8ff;border: 1px dotted black;border-radius: 0.25em;box-sizing: border-box;margin-bottom: 0.5em;}#sk-container-id-1 div.sk-estimator:hover {background-color: #d4ebff;}#sk-container-id-1 div.sk-parallel-item::after {content: \"\";width: 100%;border-bottom: 1px solid gray;flex-grow: 1;}#sk-container-id-1 div.sk-label:hover label.sk-toggleable__label {background-color: #d4ebff;}#sk-container-id-1 div.sk-serial::before {content: \"\";position: absolute;border-left: 1px solid gray;box-sizing: border-box;top: 0;bottom: 0;left: 50%;z-index: 0;}#sk-container-id-1 div.sk-serial {display: flex;flex-direction: column;align-items: center;background-color: white;padding-right: 0.2em;padding-left: 0.2em;position: relative;}#sk-container-id-1 div.sk-item {position: relative;z-index: 1;}#sk-container-id-1 div.sk-parallel {display: flex;align-items: stretch;justify-content: center;background-color: white;position: relative;}#sk-container-id-1 div.sk-item::before, #sk-container-id-1 div.sk-parallel-item::before {content: \"\";position: absolute;border-left: 1px solid gray;box-sizing: border-box;top: 0;bottom: 0;left: 50%;z-index: -1;}#sk-container-id-1 div.sk-parallel-item {display: flex;flex-direction: column;z-index: 1;position: relative;background-color: white;}#sk-container-id-1 div.sk-parallel-item:first-child::after {align-self: flex-end;width: 50%;}#sk-container-id-1 div.sk-parallel-item:last-child::after {align-self: flex-start;width: 50%;}#sk-container-id-1 div.sk-parallel-item:only-child::after {width: 0;}#sk-container-id-1 div.sk-dashed-wrapped {border: 1px dashed gray;margin: 0 0.4em 0.5em 0.4em;box-sizing: border-box;padding-bottom: 0.4em;background-color: white;}#sk-container-id-1 div.sk-label label {font-family: monospace;font-weight: bold;display: inline-block;line-height: 1.2em;}#sk-container-id-1 div.sk-label-container {text-align: center;}#sk-container-id-1 div.sk-container {/* jupyter's `normalize.less` sets `[hidden] { display: none; }` but bootstrap.min.css set `[hidden] { display: none !important; }` so we also need the `!important` here to be able to override the default hidden behavior on the sphinx rendered scikit-learn.org. See: https://github.com/scikit-learn/scikit-learn/issues/21755 */display: inline-block !important;position: relative;}#sk-container-id-1 div.sk-text-repr-fallback {display: none;}</style><div id=\"sk-container-id-1\" class=\"sk-top-container\"><div class=\"sk-text-repr-fallback\"><pre>MLPClassifier(alpha=1e-05, hidden_layer_sizes=(89, 46, 4), max_iter=500,\n",
       "              random_state=42, solver=&#x27;lbfgs&#x27;)</pre><b>In a Jupyter environment, please rerun this cell to show the HTML representation or trust the notebook. <br />On GitHub, the HTML representation is unable to render, please try loading this page with nbviewer.org.</b></div><div class=\"sk-container\" hidden><div class=\"sk-item\"><div class=\"sk-estimator sk-toggleable\"><input class=\"sk-toggleable__control sk-hidden--visually\" id=\"sk-estimator-id-1\" type=\"checkbox\" checked><label for=\"sk-estimator-id-1\" class=\"sk-toggleable__label sk-toggleable__label-arrow\">MLPClassifier</label><div class=\"sk-toggleable__content\"><pre>MLPClassifier(alpha=1e-05, hidden_layer_sizes=(89, 46, 4), max_iter=500,\n",
       "              random_state=42, solver=&#x27;lbfgs&#x27;)</pre></div></div></div></div></div>"
      ],
      "text/plain": [
       "MLPClassifier(alpha=1e-05, hidden_layer_sizes=(89, 46, 4), max_iter=500,\n",
       "              random_state=42, solver='lbfgs')"
      ]
     },
     "execution_count": 23,
     "metadata": {},
     "output_type": "execute_result"
    }
   ],
   "source": [
    "from sklearn.neural_network import MLPClassifier\n",
    "\n",
    "clf = MLPClassifier(solver='lbfgs', alpha=1e-5, hidden_layer_sizes=(first_layer, mid_layer, final_layer), max_iter = 500, random_state=42)\n",
    "clf.fit(train_set, train_labels)"
   ]
  },
  {
   "cell_type": "code",
   "execution_count": 24,
   "metadata": {},
   "outputs": [
    {
     "name": "stdout",
     "output_type": "stream",
     "text": [
      "Result on the training set 99.9359056531214  %\n",
      "Result on the testing set 99.79497693490518  %\n"
     ]
    }
   ],
   "source": [
    "print(f'Result on the training set {100 * clf.score(train_set, train_labels)}  %')\n",
    "print(f'Result on the testing set {100 * clf.score(test_set, test_labels)}  %')"
   ]
  },
  {
   "cell_type": "markdown",
   "metadata": {},
   "source": [
    "## Without machine learning libraries"
   ]
  },
  {
   "cell_type": "markdown",
   "metadata": {},
   "source": [
    "### Definition of the optimisation problem"
   ]
  },
  {
   "cell_type": "markdown",
   "metadata": {},
   "source": [
    "First, we are going to create a basic cost function, this is a very important step as the minimum of this function will be the weights used for the network. To improve the learning rate, we will not use the sigmoid activation function, because it leads to poor performance in terms of convergence and computation time.."
   ]
  },
  {
   "cell_type": "markdown",
   "metadata": {},
   "source": [
    "#### Activation functions\n",
    "\n",
    "For the two first layers, we are going to use the ReLU function, which is defined by: \n",
    "$$\n",
    "    f(z) = \n",
    "    \\begin{cases}\n",
    "         0\\text{ if } z < 0 \\\\\n",
    "         z\\text{ otherwise}\n",
    "    \\end{cases}\n",
    "$$"
   ]
  },
  {
   "cell_type": "code",
   "execution_count": 25,
   "metadata": {},
   "outputs": [],
   "source": [
    "def ReLU(x):\n",
    "    return np.maximum(x, 0)"
   ]
  },
  {
   "cell_type": "code",
   "execution_count": 26,
   "metadata": {},
   "outputs": [],
   "source": [
    "def ReLUGradient(x):\n",
    "    if x < 0:\n",
    "        return 0\n",
    "    return 1"
   ]
  },
  {
   "cell_type": "markdown",
   "metadata": {},
   "source": [
    "And for the final layer, the softmax function will be used. This function also allows us to have a probablility distribution on the output. In other words, it means that the network is now able to tell the percentage of probability of belonging to each class.\n",
    "\n",
    "\n",
    "\n",
    "With $y$ a set, $k$ the length of the set and $x$ a element of the set: \n",
    "$$\n",
    "g(x)_y = \\dfrac{e^{x}}{\\displaystyle \\sum_{i=0}^{k} e^{y_i}} \n",
    "$$\n",
    "\n",
    "We will even use a numericaly stable version of softmax, the stability comes by shifting values to the left so that higher values are now closer to zero."
   ]
  },
  {
   "cell_type": "code",
   "execution_count": 27,
   "metadata": {},
   "outputs": [],
   "source": [
    "def softmax(x):\n",
    "    shifted = x - np.max(x, axis=1)[:,None]\n",
    "    tmp = np.exp(shifted)\n",
    "    return tmp / np.sum(tmp, axis=1)[:,None]"
   ]
  },
  {
   "cell_type": "code",
   "execution_count": 28,
   "metadata": {},
   "outputs": [],
   "source": [
    "def softmaxGradient(x):\n",
    "    shifted = x - np.max(x)\n",
    "    tmp = np.exp(shifted)\n",
    "    return tmp / np.sum(tmp)"
   ]
  },
  {
   "cell_type": "markdown",
   "metadata": {},
   "source": [
    "#### Helpers functions\n",
    "\n",
    "We also define to helper functions, the first simply add ones on top of an vector and the second one retreive weight matrices from the weight vector used by scipy."
   ]
  },
  {
   "cell_type": "code",
   "execution_count": 29,
   "metadata": {},
   "outputs": [],
   "source": [
    "def add_ones(arr):\n",
    "    return np.hstack((np.ones((arr.shape[0], 1)), arr))\n",
    "\n",
    "def get_weight_matrix_from_vector(vector, input_layer_size, hidden_layer_size, num_labels):\n",
    "    nb_weights_first_layer = hidden_layer_size * (input_layer_size + 1)\n",
    "    nb_weights_second_layer = num_labels * (hidden_layer_size + 1)\n",
    "    nb_weights_last_layer = num_labels * (num_labels + 1)\n",
    "    Theta1 = np.reshape(vector[:nb_weights_first_layer],\n",
    "                        (hidden_layer_size, (input_layer_size + 1)))\n",
    "\n",
    "    Theta2 = np.reshape(vector[nb_weights_first_layer: nb_weights_first_layer + nb_weights_second_layer],\n",
    "                        (num_labels, (hidden_layer_size + 1)))\n",
    "    \n",
    "    Theta3 = np.reshape(vector[nb_weights_first_layer + nb_weights_second_layer:],\n",
    "                        (num_labels, (num_labels + 1)))\n",
    "    \n",
    "    return Theta1, Theta2, Theta3"
   ]
  },
  {
   "cell_type": "markdown",
   "metadata": {},
   "source": [
    "#### Cost function"
   ]
  },
  {
   "cell_type": "code",
   "execution_count": 30,
   "metadata": {},
   "outputs": [],
   "source": [
    "def nnCostFunction(nn_params, input_layer_size, hidden_layer_size, num_labels, X, y, lambda_=0.0):\n",
    "    # Retrieve each weight matrix from the nn_params vector\n",
    "    Theta1, Theta2, Theta3 = get_weight_matrix_from_vector(nn_params, input_layer_size, hidden_layer_size, num_labels)\n",
    "    \n",
    "    m = y.size\n",
    "    \n",
    "    # Compute each step of the neural network\n",
    "    first_layer = add_ones(X) @ Theta1.T\n",
    "    first_layer_activated = ReLU(first_layer)\n",
    "    hidden_layer = add_ones(first_layer_activated) @ Theta2.T\n",
    "    hidden_layer_activated = ReLU(hidden_layer)\n",
    "    final_layer = add_ones(hidden_layer_activated) @ Theta3.T\n",
    "    final_result = softmax(final_layer)\n",
    "\n",
    "    J = - np.sum(y * np.log(final_result) + (1 - y) * np.log(1 - final_result))\n",
    "    # For regularization\n",
    "    J += .5 * lambda_ * (np.sum(Theta1[:,1:] ** 2) + np.sum(Theta2[:,1:] ** 2) + np.sum(Theta3[:,1:] ** 2))\n",
    "    J /= m\n",
    "    \n",
    "#     tmp = final_result - y\n",
    "#     d1 = ( (tmp @ Theta2)[:,1:] * sigmoidGradient(add_ones(X) @ Theta1.T) ).T @ add_ones(X)\n",
    "#     d2 = tmp.T @ add_ones(first_layer_activated)\n",
    "#     d3 = tmp.T @ add_ones(first_layer_activated)\n",
    "    \n",
    "#     Theta1_grad = d1 / m\n",
    "#     Theta2_grad = d2 / m\n",
    "#     Theta3_grad = d3 / m\n",
    "#     Theta1_grad[:,1:] = Theta1_grad[:,1:] + lambda_ * Theta1[:,1:] / m\n",
    "#     Theta2_grad[:,1:] = Theta2_grad[:,1:] + lambda_ * Theta2[:,1:] / m\n",
    "    \n",
    "#     grad = np.concatenate([Theta1_grad.ravel(), Theta2_grad.ravel()])\n",
    "\n",
    "    return J"
   ]
  },
  {
   "cell_type": "markdown",
   "metadata": {},
   "source": [
    "### Solving the problem"
   ]
  },
  {
   "cell_type": "markdown",
   "metadata": {},
   "source": [
    "Next, we need to initialize our weights, we are doing it randomly."
   ]
  },
  {
   "cell_type": "code",
   "execution_count": 64,
   "metadata": {},
   "outputs": [],
   "source": [
    "def randInitializeWeights(L_in, L_out, epsilon_init=0.12):\n",
    "\n",
    "    W = np.zeros((L_out, 1 + L_in))\n",
    "    W = np.random.rand(L_out, 1 + L_in) * 2 * epsilon_init - epsilon_init\n",
    "\n",
    "    return W"
   ]
  },
  {
   "cell_type": "code",
   "execution_count": 65,
   "metadata": {},
   "outputs": [],
   "source": [
    "initial_Theta1 = randInitializeWeights(first_layer, mid_layer)\n",
    "initial_Theta2 = randInitializeWeights(mid_layer, final_layer)\n",
    "initial_Theta3 = randInitializeWeights(final_layer, final_layer)\n",
    "\n",
    "# Creation of the weight vector\n",
    "initial_nn_params = np.concatenate([initial_Theta1.ravel(), initial_Theta2.ravel(), initial_Theta3.ravel()], axis=0)"
   ]
  },
  {
   "cell_type": "markdown",
   "metadata": {},
   "source": [
    "Pandas uses sparse array to store datas, it is really useful to save memory, however we need to have the full form to use it in our simple model."
   ]
  },
  {
   "cell_type": "code",
   "execution_count": 66,
   "metadata": {},
   "outputs": [],
   "source": [
    "train_set_arr = train_set.toarray()\n",
    "test_set_arr = test_set.toarray()"
   ]
  },
  {
   "cell_type": "markdown",
   "metadata": {},
   "source": [
    "Now, we are going to minimize the cost function to find optimal weights"
   ]
  },
  {
   "cell_type": "code",
   "execution_count": null,
   "metadata": {},
   "outputs": [],
   "source": [
    "# We are using the same lambda as for the sk-learn version\n",
    "lambda_ = 1e-5\n",
    "options= {'maxiter': 100}\n",
    "\n",
    "costFunction = lambda p: nnCostFunction(p, first_layer, mid_layer, final_layer, train_set_arr, train_labels, lambda_)\n",
    "# TODO set jac to True and return the gradient from the cost function\n",
    "res = optimize.minimize(costFunction,initial_nn_params,jac=False, method='L-BFGS-B', options=options)\n",
    "nn_params = res.x\n",
    "        \n",
    "Theta1, Theta2, Theta3 = get_weight_matrix_from_vector(nn_params, first_layer, mid_layer, final_layer)"
   ]
  },
  {
   "cell_type": "markdown",
   "metadata": {},
   "source": [
    "## Analysis of the model"
   ]
  },
  {
   "cell_type": "markdown",
   "metadata": {},
   "source": [
    "The predict function apply the neural network, with already computed weights, to a set of input."
   ]
  },
  {
   "cell_type": "code",
   "execution_count": null,
   "metadata": {},
   "outputs": [],
   "source": [
    "def predict(Theta1, Theta2, Theta3, X):\n",
    "    h1 = ReLU(add_ones(X) @ Theta1.T)\n",
    "    h2 = ReLU(add_ones(h1) @ Theta2.T)\n",
    "    h3 = softmax(add_ones(h2) @ Theta3.T)\n",
    "    return h3"
   ]
  },
  {
   "cell_type": "markdown",
   "metadata": {},
   "source": [
    "We also define a score function, as the NN outputs a probability of belonging, score can take advantage of that and find the solution in multiple edducated guesses."
   ]
  },
  {
   "cell_type": "code",
   "execution_count": null,
   "metadata": {},
   "outputs": [],
   "source": [
    "def score(prediction, result):\n",
    "    prediction = prediction.copy()\n",
    "    scored = dict()\n",
    "    for pred, res in zip(prediction, result):\n",
    "        for i in range(prediction.shape[1]):\n",
    "            a_max = np.argmax(pred)\n",
    "            pred[a_max] = 0\n",
    "            if res[a_max] == 1:\n",
    "                scored[i] = scored.get(i, 0) + 1\n",
    "                break\n",
    "    return scored\n",
    "    "
   ]
  },
  {
   "cell_type": "markdown",
   "metadata": {},
   "source": [
    "### Final results"
   ]
  },
  {
   "cell_type": "code",
   "execution_count": null,
   "metadata": {},
   "outputs": [],
   "source": [
    "pred_train = predict(Theta1, Theta2, Theta3, train_set_arr)\n",
    "pred_test = predict(Theta1, Theta2, Theta3, test_set_arr)\n",
    "\n",
    "train_score = score(pred_train, train_labels)\n",
    "test_score = score(pred_test, test_labels)\n",
    "\n",
    "\n",
    "print(\"Result on the training set:\")\n",
    "print(f'\\t{train_score[0] / pred_train.shape[0]:.2%} on the first guess')\n",
    "print(f'\\t{train_score[1] / pred_train.shape[0]:.2%} on the second guess')\n",
    "print(f'\\t{train_score[2] / pred_train.shape[0]:.2%} on the third guess')\n",
    "print(f'\\t{train_score[3] / pred_train.shape[0]:.2%} are not guessed in three try')\n",
    "print(\"\\nResult on the test set:\")\n",
    "print(f'\\t{test_score[0] / pred_test.shape[0]:.2%} on the first guess')\n",
    "print(f'\\t{test_score[1] / pred_test.shape[0]:.2%} on the second guess')\n",
    "print(f'\\t{test_score[2] / pred_test.shape[0]:.2%} on the third guess')\n",
    "print(f'\\t{test_score[3] / pred_test.shape[0]:.2%} are not guessed in three try')\n"
   ]
  },
  {
   "cell_type": "code",
   "execution_count": null,
   "metadata": {},
   "outputs": [],
   "source": []
  }
 ],
 "metadata": {
  "interpreter": {
   "hash": "87c8eeea08ab3d29ad729688c7dc8d710eb7504e2022354839d375ec51a3ad09"
  },
  "kernelspec": {
   "display_name": "Python 3 (ipykernel)",
   "language": "python",
   "name": "python3"
  },
  "language_info": {
   "codemirror_mode": {
    "name": "ipython",
    "version": 3
   },
   "file_extension": ".py",
   "mimetype": "text/x-python",
   "name": "python",
   "nbconvert_exporter": "python",
   "pygments_lexer": "ipython3",
   "version": "3.10.4"
  }
 },
 "nbformat": 4,
 "nbformat_minor": 2
}
