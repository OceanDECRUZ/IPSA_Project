{
 "cells": [
  {
   "cell_type": "markdown",
   "metadata": {},
   "source": [
    "# <font color='black'>Introduction to Machine Learning</font>\n",
    "\n",
    "---\n",
    "\n",
    "<img src=\"images/ipsa_logo.png\" width=\"100\" align=\"right\">\n",
    "\n",
    "\n",
    "> Year: **2021**\n",
    "\n",
    "> Version: **3.0**\n",
    "\n",
    "\n",
    "## <font color='black'>Contents</font>\n",
    "\n",
    "---\n",
    " \n",
    "1. [Set-Up](#Set-Up)\n",
    "2. [Linear regression with one variable](#LinearRegression)\n",
    " * [Gradient Descent](#GD)\n",
    "3. [Linear regression with multiple variables](#LinearRegression2)\n",
    " * [Feature Scaling](#FeatureScaling)\n",
    " * [Gradient Descent](#GD2)\n",
    " * [Normal Equation](#NE)"
   ]
  },
  {
   "cell_type": "markdown",
   "metadata": {},
   "source": [
    "\n",
    "Welcome to the Intoduction to Machine Learning Course.\n",
    "\n",
    "The objective of this lab session is to code linear regression and to apply the algorithm to real data. You will predict how many times a Machine Learning article will be shared on Social Networks according to some of its characteristics.\n",
    "\n",
    "\n",
    "## <font color='black'>Set-Up</font>\n",
    "\n",
    "---\n",
    "\n",
    "First we will import the packages that we will need throughout the notebook."
   ]
  },
  {
   "cell_type": "code",
   "execution_count": 1,
   "metadata": {},
   "outputs": [],
   "source": [
    "# Tell Jupyter to display plots in this notebook.\n",
    "%matplotlib inline\n",
    "\n",
    "# Import the numpy package with the alias np.\n",
    "import numpy as np           \n",
    "import pandas as pd\n",
    "\n",
    "# Import the pyplot package from matplotlib with the alias plt.\n",
    "import matplotlib.pyplot as plt  \n",
    "import matplotlib.cm as cm\n",
    "from matplotlib import pylab\n",
    "pylab.rcParams['figure.figsize'] = (4, 4)"
   ]
  },
  {
   "cell_type": "markdown",
   "metadata": {},
   "source": [
    "## <font color='black'>Linear regression with one variable</font>\n",
    "\n",
    "---"
   ]
  },
  {
   "cell_type": "markdown",
   "metadata": {},
   "source": [
    "Before starting on any task, it is often useful to understand the data by visualizing them. "
   ]
  },
  {
   "cell_type": "code",
   "execution_count": 2,
   "metadata": {},
   "outputs": [],
   "source": [
    "# ======================= Load the data =======================\n",
    "data = pd.read_csv(\"articulos_ml.csv\")"
   ]
  },
  {
   "cell_type": "code",
   "execution_count": 3,
   "metadata": {},
   "outputs": [
    {
     "data": {
      "text/plain": [
       "(161, 8)"
      ]
     },
     "execution_count": 3,
     "metadata": {},
     "output_type": "execute_result"
    }
   ],
   "source": [
    "# ======================= Check the dimensions ================\n",
    "data.shape"
   ]
  },
  {
   "cell_type": "code",
   "execution_count": 4,
   "metadata": {},
   "outputs": [
    {
     "data": {
      "text/html": [
       "<div>\n",
       "<style scoped>\n",
       "    .dataframe tbody tr th:only-of-type {\n",
       "        vertical-align: middle;\n",
       "    }\n",
       "\n",
       "    .dataframe tbody tr th {\n",
       "        vertical-align: top;\n",
       "    }\n",
       "\n",
       "    .dataframe thead th {\n",
       "        text-align: right;\n",
       "    }\n",
       "</style>\n",
       "<table border=\"1\" class=\"dataframe\">\n",
       "  <thead>\n",
       "    <tr style=\"text-align: right;\">\n",
       "      <th></th>\n",
       "      <th>Title</th>\n",
       "      <th>url</th>\n",
       "      <th>Word count</th>\n",
       "      <th># of Links</th>\n",
       "      <th># of comments</th>\n",
       "      <th># Images video</th>\n",
       "      <th>Elapsed days</th>\n",
       "      <th># Shares</th>\n",
       "    </tr>\n",
       "  </thead>\n",
       "  <tbody>\n",
       "    <tr>\n",
       "      <th>0</th>\n",
       "      <td>What is Machine Learning and how do we use it ...</td>\n",
       "      <td>https://blog.signals.network/what-is-machine-l...</td>\n",
       "      <td>1888</td>\n",
       "      <td>1</td>\n",
       "      <td>2.0</td>\n",
       "      <td>2</td>\n",
       "      <td>34</td>\n",
       "      <td>200000</td>\n",
       "    </tr>\n",
       "    <tr>\n",
       "      <th>1</th>\n",
       "      <td>10 Companies Using Machine Learning in Cool Ways</td>\n",
       "      <td>NaN</td>\n",
       "      <td>1742</td>\n",
       "      <td>9</td>\n",
       "      <td>NaN</td>\n",
       "      <td>9</td>\n",
       "      <td>5</td>\n",
       "      <td>25000</td>\n",
       "    </tr>\n",
       "    <tr>\n",
       "      <th>2</th>\n",
       "      <td>How Artificial Intelligence Is Revolutionizing...</td>\n",
       "      <td>NaN</td>\n",
       "      <td>962</td>\n",
       "      <td>6</td>\n",
       "      <td>0.0</td>\n",
       "      <td>1</td>\n",
       "      <td>10</td>\n",
       "      <td>42000</td>\n",
       "    </tr>\n",
       "    <tr>\n",
       "      <th>3</th>\n",
       "      <td>Dbrain and the Blockchain of Artificial Intell...</td>\n",
       "      <td>NaN</td>\n",
       "      <td>1221</td>\n",
       "      <td>3</td>\n",
       "      <td>NaN</td>\n",
       "      <td>2</td>\n",
       "      <td>68</td>\n",
       "      <td>200000</td>\n",
       "    </tr>\n",
       "    <tr>\n",
       "      <th>4</th>\n",
       "      <td>Nasa finds entire solar system filled with eig...</td>\n",
       "      <td>NaN</td>\n",
       "      <td>2039</td>\n",
       "      <td>1</td>\n",
       "      <td>104.0</td>\n",
       "      <td>4</td>\n",
       "      <td>131</td>\n",
       "      <td>200000</td>\n",
       "    </tr>\n",
       "  </tbody>\n",
       "</table>\n",
       "</div>"
      ],
      "text/plain": [
       "                                               Title  \\\n",
       "0  What is Machine Learning and how do we use it ...   \n",
       "1   10 Companies Using Machine Learning in Cool Ways   \n",
       "2  How Artificial Intelligence Is Revolutionizing...   \n",
       "3  Dbrain and the Blockchain of Artificial Intell...   \n",
       "4  Nasa finds entire solar system filled with eig...   \n",
       "\n",
       "                                                 url  Word count  # of Links  \\\n",
       "0  https://blog.signals.network/what-is-machine-l...        1888           1   \n",
       "1                                                NaN        1742           9   \n",
       "2                                                NaN         962           6   \n",
       "3                                                NaN        1221           3   \n",
       "4                                                NaN        2039           1   \n",
       "\n",
       "   # of comments  # Images video  Elapsed days  # Shares  \n",
       "0            2.0               2            34    200000  \n",
       "1            NaN               9             5     25000  \n",
       "2            0.0               1            10     42000  \n",
       "3            NaN               2            68    200000  \n",
       "4          104.0               4           131    200000  "
      ]
     },
     "execution_count": 4,
     "metadata": {},
     "output_type": "execute_result"
    }
   ],
   "source": [
    "# ======================= Let's visualize the first rows\n",
    "data.head()"
   ]
  },
  {
   "cell_type": "markdown",
   "metadata": {},
   "source": [
    "Remark that some entries (as for instance in the comments column) are empty.\n",
    "\n",
    "In our case, the column Shares will correspond to the target value, y."
   ]
  },
  {
   "cell_type": "code",
   "execution_count": 5,
   "metadata": {},
   "outputs": [
    {
     "data": {
      "text/html": [
       "<div>\n",
       "<style scoped>\n",
       "    .dataframe tbody tr th:only-of-type {\n",
       "        vertical-align: middle;\n",
       "    }\n",
       "\n",
       "    .dataframe tbody tr th {\n",
       "        vertical-align: top;\n",
       "    }\n",
       "\n",
       "    .dataframe thead th {\n",
       "        text-align: right;\n",
       "    }\n",
       "</style>\n",
       "<table border=\"1\" class=\"dataframe\">\n",
       "  <thead>\n",
       "    <tr style=\"text-align: right;\">\n",
       "      <th></th>\n",
       "      <th>Word count</th>\n",
       "      <th># of Links</th>\n",
       "      <th># of comments</th>\n",
       "      <th># Images video</th>\n",
       "      <th>Elapsed days</th>\n",
       "      <th># Shares</th>\n",
       "    </tr>\n",
       "  </thead>\n",
       "  <tbody>\n",
       "    <tr>\n",
       "      <th>count</th>\n",
       "      <td>161.000000</td>\n",
       "      <td>161.000000</td>\n",
       "      <td>129.000000</td>\n",
       "      <td>161.000000</td>\n",
       "      <td>161.000000</td>\n",
       "      <td>161.000000</td>\n",
       "    </tr>\n",
       "    <tr>\n",
       "      <th>mean</th>\n",
       "      <td>1808.260870</td>\n",
       "      <td>9.739130</td>\n",
       "      <td>8.782946</td>\n",
       "      <td>3.670807</td>\n",
       "      <td>98.124224</td>\n",
       "      <td>27948.347826</td>\n",
       "    </tr>\n",
       "    <tr>\n",
       "      <th>std</th>\n",
       "      <td>1141.919385</td>\n",
       "      <td>47.271625</td>\n",
       "      <td>13.142822</td>\n",
       "      <td>3.418290</td>\n",
       "      <td>114.337535</td>\n",
       "      <td>43408.006839</td>\n",
       "    </tr>\n",
       "    <tr>\n",
       "      <th>min</th>\n",
       "      <td>250.000000</td>\n",
       "      <td>0.000000</td>\n",
       "      <td>0.000000</td>\n",
       "      <td>1.000000</td>\n",
       "      <td>1.000000</td>\n",
       "      <td>0.000000</td>\n",
       "    </tr>\n",
       "    <tr>\n",
       "      <th>25%</th>\n",
       "      <td>990.000000</td>\n",
       "      <td>3.000000</td>\n",
       "      <td>2.000000</td>\n",
       "      <td>1.000000</td>\n",
       "      <td>31.000000</td>\n",
       "      <td>2800.000000</td>\n",
       "    </tr>\n",
       "    <tr>\n",
       "      <th>50%</th>\n",
       "      <td>1674.000000</td>\n",
       "      <td>5.000000</td>\n",
       "      <td>6.000000</td>\n",
       "      <td>3.000000</td>\n",
       "      <td>62.000000</td>\n",
       "      <td>16458.000000</td>\n",
       "    </tr>\n",
       "    <tr>\n",
       "      <th>75%</th>\n",
       "      <td>2369.000000</td>\n",
       "      <td>7.000000</td>\n",
       "      <td>12.000000</td>\n",
       "      <td>5.000000</td>\n",
       "      <td>124.000000</td>\n",
       "      <td>35691.000000</td>\n",
       "    </tr>\n",
       "    <tr>\n",
       "      <th>max</th>\n",
       "      <td>8401.000000</td>\n",
       "      <td>600.000000</td>\n",
       "      <td>104.000000</td>\n",
       "      <td>22.000000</td>\n",
       "      <td>1002.000000</td>\n",
       "      <td>350000.000000</td>\n",
       "    </tr>\n",
       "  </tbody>\n",
       "</table>\n",
       "</div>"
      ],
      "text/plain": [
       "        Word count  # of Links  # of comments  # Images video  Elapsed days  \\\n",
       "count   161.000000  161.000000     129.000000      161.000000    161.000000   \n",
       "mean   1808.260870    9.739130       8.782946        3.670807     98.124224   \n",
       "std    1141.919385   47.271625      13.142822        3.418290    114.337535   \n",
       "min     250.000000    0.000000       0.000000        1.000000      1.000000   \n",
       "25%     990.000000    3.000000       2.000000        1.000000     31.000000   \n",
       "50%    1674.000000    5.000000       6.000000        3.000000     62.000000   \n",
       "75%    2369.000000    7.000000      12.000000        5.000000    124.000000   \n",
       "max    8401.000000  600.000000     104.000000       22.000000   1002.000000   \n",
       "\n",
       "            # Shares  \n",
       "count     161.000000  \n",
       "mean    27948.347826  \n",
       "std     43408.006839  \n",
       "min         0.000000  \n",
       "25%      2800.000000  \n",
       "50%     16458.000000  \n",
       "75%     35691.000000  \n",
       "max    350000.000000  "
      ]
     },
     "execution_count": 5,
     "metadata": {},
     "output_type": "execute_result"
    }
   ],
   "source": [
    "# ======================= Display some statistics from the dataset =======================\n",
    "data.describe()"
   ]
  },
  {
   "cell_type": "markdown",
   "metadata": {},
   "source": [
    "In this table, we can read that the the mean number of words is 1808.\n",
    "There is an article with a minimum of 250 words and a maximum of 8401.\n",
    "\n",
    "Concerning the outputs, the minimum is 0 times shared and the maximum is shared 350000."
   ]
  },
  {
   "cell_type": "markdown",
   "metadata": {},
   "source": [
    "### Visualizaze the Word count vs. #Shares"
   ]
  },
  {
   "cell_type": "code",
   "execution_count": 6,
   "metadata": {},
   "outputs": [
    {
     "data": {
      "image/png": "[encoded data removed]",
      "text/plain": [
       "<Figure size 288x288 with 1 Axes>"
      ]
     },
     "metadata": {
      "needs_background": "light"
     },
     "output_type": "display_data"
    }
   ],
   "source": [
    "f1 = data['Word count'].values\n",
    "f2 = data['# Shares'].values\n",
    "    \n",
    "plt.scatter(f1, f2, c='b')\n",
    "plt.show()"
   ]
  },
  {
   "cell_type": "code",
   "execution_count": 7,
   "metadata": {},
   "outputs": [
    {
     "data": {
      "image/png": "[encoded data removed]",
      "text/plain": [
       "<Figure size 288x288 with 1 Axes>"
      ]
     },
     "metadata": {
      "needs_background": "light"
     },
     "output_type": "display_data"
    }
   ],
   "source": [
    "# We apply a cut to the oringal dataset\n",
    "filtered_data = data[(data['Word count'] <= 3500) & (data['# Shares'] <= 80000)]\n",
    "\n",
    "f1 = filtered_data['Word count'].values\n",
    "f2 = filtered_data['# Shares'].values\n",
    "    \n",
    "plt.scatter(f1, f2, c='b')\n",
    "plt.show()"
   ]
  },
  {
   "cell_type": "markdown",
   "metadata": {},
   "source": [
    "We will analyze the resulting dataset."
   ]
  },
  {
   "cell_type": "code",
   "execution_count": 8,
   "metadata": {},
   "outputs": [],
   "source": [
    "dataX =filtered_data[[\"Word count\"]]\n",
    "X = np.array(dataX)\n",
    "y = filtered_data['# Shares'].values"
   ]
  },
  {
   "cell_type": "markdown",
   "metadata": {},
   "source": [
    "### <font color='black'> Gradiend Descent</font>"
   ]
  },
  {
   "cell_type": "markdown",
   "metadata": {},
   "source": [
    "In this part, you will fit the linear regression parameters $\\theta$ to the dataset using gradient descent.\n",
    "\n",
    "Recall that the parameters of your model are the $\\theta_j$ values. These are the values you will adjust to minimize cost $J(\\theta)$. \n",
    "\n",
    "In the following lines, we add another dimension to our data to account for the $\\theta_0$ intercept term. We also initialize the parameters to 0 and the learning rate $\\alpha$ to 0.01."
   ]
  },
  {
   "cell_type": "code",
   "execution_count": 9,
   "metadata": {},
   "outputs": [],
   "source": [
    "# =================== Cost and Gradient descent ===================\n",
    "\n",
    "# Setup the data matrix appropriately, and add ones for the intercept term\n",
    "m, n = X.shape\n",
    "\n",
    "# Add intercept term to X\n",
    "X = np.concatenate([np.ones((m, 1)), X], axis=1)\n",
    "theta = np.zeros((2,1)); # initialize fitting parameters"
   ]
  },
  {
   "cell_type": "markdown",
   "metadata": {},
   "source": [
    "As you perform gradient descent to learn minimize the cost function $J(\\theta)$, it is helpful to monitor the convergence by computing the cost. \n",
    "\n",
    "Firstly you will implement a function to calculate $J(\\theta)$ so you can check the convergence of your gradient descent.\n",
    "\n",
    "Complete the function below that computes $J(\\theta)$. \n",
    "Once you have completed the function, the next step will run computeCost once using $\\theta$ initialized to zeros, and you will see the cost printed to the screen."
   ]
  },
  {
   "cell_type": "code",
   "execution_count": 10,
   "metadata": {},
   "outputs": [],
   "source": [
    "def computeCost(X, y, theta):\n",
    "    #COMPUTECOST Compute cost for linear regression\n",
    "    #   using theta as the parameter for linear regression to fit the data points in X and y\n",
    "    \n",
    "    # Initialize some useful values\n",
    "    m = y.shape[0] # number of training examples\n",
    "\n",
    "    #You need to return the following variables correctly \n",
    "    J = 0;\n",
    "\n",
    "    # ============================================================\n",
    " \n",
    "    J = 1/(2*m)*np.sum(np.power(np.dot(X,theta)-y,2))\n",
    "    \n",
    "    # ============================================================\n",
    "    return J"
   ]
  },
  {
   "cell_type": "code",
   "execution_count": 11,
   "metadata": {},
   "outputs": [
    {
     "name": "stdout",
     "output_type": "stream",
     "text": [
      "With theta = [0 ; 0] Cost computed =  60443036869.0\n",
      "Expected cost value (approx) 408398897.763\n",
      "\n"
     ]
    }
   ],
   "source": [
    "J = computeCost(X, y, theta);\n",
    "\n",
    "print('With theta = [0 ; 0] Cost computed = ' , J);\n",
    "print('Expected cost value (approx) 408398897.763\\n');"
   ]
  },
  {
   "cell_type": "markdown",
   "metadata": {},
   "source": [
    "Next, you will implement gradient descent. The loop structure has already been written. You only need to supply the updates to $\\theta$ within each iteration.\n",
    "\n",
    "A good way to verify that gradient descent is working is to look at the value of $J(\\theta)$ and check that it is decreasing with each step. The code calls computeCost on every iteration and prints the cost. If you have implemented gradient descent and computeCost correctly, your value of $J(\\theta)$ should never increase, and should converge to a  value by the end of the algorithm.\n",
    "\n",
    "After you have finished, you will use the final parameters to plot the linear fit. "
   ]
  },
  {
   "cell_type": "code",
   "execution_count": 12,
   "metadata": {},
   "outputs": [],
   "source": [
    "def gradientDescent(X, y, theta, alpha, num_iters):\n",
    "    \n",
    "    # Initialize some useful values\n",
    "    m = y.shape[0]  # number of training examples\n",
    "    \n",
    "    # make a copy of theta, to avoid changing the original array, since numpy arrays\n",
    "    # are passed by reference to functions\n",
    "    theta = theta.copy()\n",
    "\n",
    "    \n",
    "    J_history = [] # Use a python list to save cost in every iteration\n",
    "    \n",
    "    for i in range(num_iters):\n",
    "        # ====================================================================\n",
    "         \n",
    "        A = np.dot(X, theta)\n",
    "        theta = theta - (alpha / m) * np.dot(X.T, (A - y))\n",
    "            \n",
    "            \n",
    "        # =====================================================================\n",
    "        \n",
    "        # save the cost J in every iteration\n",
    "        J_history.append(computeCost(X, y, theta))\n",
    "    \n",
    "    return theta, J_history                         "
   ]
  },
  {
   "cell_type": "code",
   "execution_count": 13,
   "metadata": {},
   "outputs": [
    {
     "name": "stdout",
     "output_type": "stream",
     "text": [
      "Theta found by gradient descent:\n",
      "\n",
      "[ 0.02780782 11.16293235]\n",
      "Expected theta values (approx)\n",
      "\n",
      " 0.0278\n",
      "  11.162\n",
      "\n",
      "\n"
     ]
    }
   ],
   "source": [
    "theta = np.zeros(2); # initialize fitting parameters\n",
    "\n",
    "# Some gradient descent settings\n",
    "iterations = 1000;\n",
    "alpha = 1e-8;\n",
    "\n",
    "theta, J = gradientDescent(X, y, theta, alpha, iterations);\n",
    "\n",
    "print('Theta found by gradient descent:\\n');\n",
    "print(theta);\n",
    "print('Expected theta values (approx)\\n');\n",
    "print(' 0.0278\\n  11.162\\n\\n');"
   ]
  },
  {
   "cell_type": "markdown",
   "metadata": {},
   "source": [
    "## <font color='black'> Linear regression with multiple variables</font>\n",
    "\n",
    "In this part, you will implement linear regression with multiple variables to predict the number of shares of a machine learning article. We will create a new variable that is the sum of the links, comments and images."
   ]
  },
  {
   "cell_type": "code",
   "execution_count": 14,
   "metadata": {},
   "outputs": [],
   "source": [
    "# ======================= Load the data =======================\n",
    "\n",
    "suma = (filtered_data[\"# of Links\"] + filtered_data['# of comments'].fillna(0) + filtered_data['# Images video'])\n",
    "\n",
    "dataX2 =  pd.DataFrame()\n",
    "dataX2[\"Word count\"] = filtered_data[\"Word count\"]\n",
    "dataX2[\"suma\"] = suma\n",
    "X = np.array(dataX2)\n",
    "y = filtered_data['# Shares'].values\n",
    "\n",
    "m = y.shape[0] # number of training examples"
   ]
  },
  {
   "cell_type": "markdown",
   "metadata": {
    "scrolled": true
   },
   "source": [
    "### <font color='black'> Feature Scaling</font>\n",
    "\n",
    "By looking at the values, note that the word count are about 1000 times the sum of the other variables. When features differ by orders of magnitude, performing feature scaling can make gradient descent converge much more quickly.\n",
    "\n",
    "You need to fill the cell below to perform feature scaling.\n",
    "- Subtract the mean value of each feature from the dataset.\n",
    "- After subtracting the mean, additionally scale (divide) the feature values by their respective “standard deviation\".\n",
    "\n",
    "When normalizing the features, it is important to store the values used for normalization - the mean value and the standard deviation. \n",
    "\n",
    "Given a new input x, we must first normalize x using the mean and standard deviation that we had previously computed from the training set."
   ]
  },
  {
   "cell_type": "code",
   "execution_count": 15,
   "metadata": {},
   "outputs": [],
   "source": [
    "def featureNormalize(X):\n",
    "    #FEATURENORMALIZE Normalizes the features in X \n",
    "    #   FEATURENORMALIZE(X) returns a normalized version of X where\n",
    "    #   the mean value of each feature is 0 and the standard deviation\n",
    "    #   is 1. This is often a good preprocessing step to do when\n",
    "    #   working with learning algorithms.\n",
    "\n",
    "    # You need to set these values correctly\n",
    "    X_norm = X.copy()\n",
    "    mu = np.zeros(X.shape[1])\n",
    "    sigma = np.zeros(X.shape[1])\n",
    "\n",
    "    # ===========================================================\n",
    "\n",
    "    mu = np.mean(X,axis=0);\n",
    "    sigma = np.std(X,axis=0);\n",
    "    X_norm = (X_norm - mu)/sigma\n",
    "\n",
    "    # ============================================================\n",
    "\n",
    "    return X_norm, mu, sigma"
   ]
  },
  {
   "cell_type": "code",
   "execution_count": 16,
   "metadata": {},
   "outputs": [],
   "source": [
    "X_norm, mu, sigma = featureNormalize(X);\n",
    "\n",
    "#Add intercept term to X\n",
    "X = np.concatenate([np.ones((m, 1)), X_norm], axis=1)"
   ]
  },
  {
   "cell_type": "markdown",
   "metadata": {},
   "source": [
    "### <font color='black'> Gradient Descent</font>\n",
    "\n",
    "\n",
    "Previously, you implemented gradient descent on a univariate regression problem. The only difference now is that there is one more feature in the matrix X. \n",
    "\n",
    "The hypothesis function and the batch gradient descent update rule remain unchanged.\n",
    "If your code in the previous part (single variable) already supports multiple variables, you can use it here too."
   ]
  },
  {
   "cell_type": "code",
   "execution_count": 17,
   "metadata": {},
   "outputs": [],
   "source": [
    "def computeCostMulti(X, y, theta):\n",
    "\n",
    "    # Initialize some useful values\n",
    "    m = y.shape[0] # number of training examples\n",
    "    \n",
    "    # You need to return the following variable correctly\n",
    "    J = 0\n",
    "    \n",
    "    # ===============================================================\n",
    "\n",
    "\n",
    "    J = 1/(2*m)*np.sum(np.power(np.dot(X,theta)-y,2))\n",
    "    \n",
    "    \n",
    "    # ==================================================================\n",
    "    return J"
   ]
  },
  {
   "cell_type": "code",
   "execution_count": 18,
   "metadata": {},
   "outputs": [],
   "source": [
    "def gradientDescentMulti(X, y, theta, alpha, num_iters):\n",
    "    #GRADIENTDESCENTMULTI Performs gradient descent to learn theta\n",
    "    #   theta = GRADIENTDESCENTMULTI(x, y, theta, alpha, num_iters) updates theta by\n",
    "    #   taking num_iters gradient steps with learning rate alpha\n",
    "    \n",
    "    # Initialize some useful values\n",
    "    m = y.shape[0] # number of training examples\n",
    "    \n",
    "    # make a copy of theta, which will be updated by gradient descent\n",
    "    theta = theta.copy()\n",
    "    SP = theta.shape;\n",
    "    J_history = []\n",
    "        \n",
    "    for i in range(num_iters):\n",
    "    \n",
    "        # =============================================================\n",
    "\n",
    "        A = np.dot(X, theta)\n",
    "        theta = theta - ((alpha / m) * (np.dot(X.T, (A - y))))\n",
    "        \n",
    "        # ==============================================================\n",
    "\n",
    "        # Save the cost J in every iteration    \n",
    "        J_history.append(computeCostMulti(X, y, theta))\n",
    "\n",
    "                                      \n",
    "    return theta, J_history "
   ]
  },
  {
   "cell_type": "code",
   "execution_count": 19,
   "metadata": {},
   "outputs": [],
   "source": [
    "# ================ Gradient Descent ================\n",
    "\n",
    "# Choose some alpha value\n",
    "alpha = 0.1\n",
    "num_iters = 50\n",
    "\n",
    "# Init Theta and Run Gradient Descent \n",
    "theta = np.zeros((3,1))\n",
    "\n",
    "theta, J_history = gradientDescentMulti(X, y, theta, alpha, num_iters)"
   ]
  },
  {
   "cell_type": "markdown",
   "metadata": {},
   "source": [
    "Now you will to try out different learning rates for the dataset and find a learning rate that converges quickly. You can change the learning rate by modifying the variable above and changing the part of the code that sets the learning rate.\n",
    "\n",
    "The cell bellow plots the values of $J(\\theta)$ against the number of the iterations.\n",
    "If you picked a good value for the learning rate, the cost will decrease in every iteration. If the value of J($\\theta$) increases, adjust your learning rate and try again. You may also want to adjust the number of iterations you are running if that will help you see the overall trend in the curve."
   ]
  },
  {
   "cell_type": "code",
   "execution_count": 20,
   "metadata": {},
   "outputs": [
    {
     "data": {
      "image/png": "[encoded data removed]",
      "text/plain": [
       "<Figure size 288x288 with 1 Axes>"
      ]
     },
     "metadata": {
      "needs_background": "light"
     },
     "output_type": "display_data"
    }
   ],
   "source": [
    "plt.figure()\n",
    "plt.plot(np.arange(0,num_iters), J_history, '-b');\n",
    "plt.xlabel('Number of iterations');\n",
    "plt.ylabel('Cost J');"
   ]
  },
  {
   "cell_type": "markdown",
   "metadata": {},
   "source": [
    "Notice the changes in the convergence curves as the learning rate changes. With a small learning rate, you should find that gradient descent takes a very long time to converge to the optimal value. Conversely, with a large learning rate, gradient descent might not converge or might even diverge.\n",
    "\n",
    "Using the best learning rate that you found, run the script to run gradient descent until convergence to find the final values of $\\theta$. Next, use this value to predict the number of shares of an article with 515 words and sum 7.  Don’t forget to normalize the features when you make this prediction.\n"
   ]
  },
  {
   "cell_type": "code",
   "execution_count": 21,
   "metadata": {},
   "outputs": [
    {
     "name": "stdout",
     "output_type": "stream",
     "text": [
      "Theta computed from gradient descent: \n",
      "\n",
      "[[2.48711556e+04 4.17835414e+04 2.08917707e+04 7.66031593e+04\n",
      "  5.90938658e+04 3.48196179e+04 2.88505405e+04 3.68093103e+04\n",
      "  6.69531509e+04 5.97902581e+04 3.18350792e+03 3.68093103e+04\n",
      "  5.47165424e+04 5.45175731e+04 5.43186039e+04 2.68608481e+04\n",
      "  1.98969245e+04 2.38763094e+03 3.78041565e+03 2.58660018e+04\n",
      "  1.39278471e+04 1.39278471e+04 2.98453867e+03 5.57113886e+03\n",
      "  1.49226934e+03 8.35670829e+03 5.27268499e+03 2.48711556e+03\n",
      "  7.53098592e+02 6.36701584e+03 3.58144641e+03 2.18866169e+01\n",
      "  2.28814632e+03 2.78556943e+03 1.29330009e+03 2.48711556e+03\n",
      "  4.47680801e+03 4.19825107e+02 1.59175396e+03 7.11315051e+02\n",
      "  9.02325526e+02 2.78556943e+03 1.29330009e+03 2.98453867e+03\n",
      "  2.78556943e+03 3.28299254e+03 2.58660018e+03 2.28814632e+03\n",
      "  1.39278471e+03 1.79072320e+03 8.62531677e+02 1.49226934e+03\n",
      "  6.27747968e+02 1.19381547e+03 9.45103914e+02 1.19381547e+03\n",
      "  1.94989860e+02 1.09433085e+03 6.64557278e+02 4.21814799e+02\n",
      "  7.95876980e+00 3.65108564e+02 4.21874490e+04 1.72406851e+03\n",
      "  3.55070566e+04 1.10039941e+04 5.10545134e+04 3.05974905e+04\n",
      "  5.81238907e+04 4.78123096e+04 0.00000000e+00 4.96229297e+03\n",
      "  2.78397768e+04 4.52207351e+04 7.61902981e+04 2.41389488e+04\n",
      "  5.23388599e+03 2.54163314e+04 0.00000000e+00 5.60854508e+04\n",
      "  1.32463775e+04 2.73343949e+04 5.48856662e+04 8.66511062e+02\n",
      "  3.95620498e+04 1.63055296e+04 2.37091752e+04 1.22057683e+04\n",
      "  1.05195040e+04 2.40812477e+04 1.35159808e+04 2.10141368e+04\n",
      "  3.20818011e+04 7.95976464e+03 2.31679789e+04 5.34431392e+04\n",
      "  5.31735359e+04 5.24403342e+04 3.94764930e+04 3.88895338e+04\n",
      "  2.79710965e+04 2.57167749e+04 2.07723892e+04 1.70566385e+04\n",
      "  5.67639359e+04 1.93199137e+04 3.28100285e+03 3.09765269e+04\n",
      "  5.12644260e+03 3.43371174e+04 7.22258359e+03 0.00000000e+00\n",
      "  2.30326798e+04 3.07526865e+04 3.44903238e+04 1.26743409e+04\n",
      "  3.65178204e+04 1.17093401e+03 4.86748412e+04 1.09980250e+04\n",
      "  4.91662953e+04 2.28993704e+04 5.39186757e+04 6.55603662e+02\n",
      "  1.65552360e+04 1.97258109e+04 1.49694511e+04 1.60767150e+04\n",
      "  3.38894366e+04 1.70357468e+04 1.54320546e+04 9.03817795e+03\n",
      "  1.63731792e+04 5.54507389e+04 1.79191702e+04 3.52095976e+04\n",
      "  2.60590020e+04 5.56258318e+04 3.94754982e+03 1.81459951e+03\n",
      "  2.94275513e+03 2.22437667e+04 8.66212608e+03 3.22230692e+03\n",
      "  2.48900577e+04 4.93583006e+04 3.34865239e+04 5.92530411e+03]\n",
      " [8.01101685e-13 1.60591400e-12 8.02956998e-13 3.23224120e-12\n",
      "  1.61563180e-12 1.16558042e-12 8.02321316e-13 1.48493345e-12\n",
      "  1.96894160e-12 1.62096089e-12 1.00778511e-13 1.48493345e-12\n",
      "  1.60904279e-12 1.61030540e-12 1.60431036e-12 8.03061279e-13\n",
      "  8.06796471e-13 1.00990253e-13 1.00452359e-13 8.00681560e-13\n",
      "  4.02460776e-13 4.02460776e-13 1.00514424e-13 2.00865274e-13\n",
      "  5.02572120e-14 2.40715351e-13 2.01964588e-13 1.00849559e-13\n",
      "  2.52752284e-14 2.01557023e-13 1.01002944e-13 7.90124105e-16\n",
      "  9.56343037e-14 1.00432637e-13 5.04104844e-14 1.00849559e-13\n",
      "  1.86934951e-13 1.25978683e-14 5.03892557e-14 2.52033633e-14\n",
      "  2.53199742e-14 1.00432637e-13 5.04104844e-14 1.00514424e-13\n",
      "  1.00432637e-13 1.01140412e-13 1.00820969e-13 9.56343037e-14\n",
      "  5.02163185e-14 5.05014722e-14 2.51233907e-14 5.02572120e-14\n",
      "  2.51704795e-14 5.04951267e-14 2.51130897e-14 5.04951267e-14\n",
      "  6.30344455e-15 3.89665948e-14 2.52408390e-14 1.25659252e-14\n",
      "  1.96767429e-16 1.26587161e-14 1.60967019e-12 5.02452820e-14\n",
      "  1.32721714e-12 4.02419817e-13 1.61852691e-12 8.04740581e-13\n",
      "  1.60840051e-12 1.61455667e-12 0.00000000e+00 2.01998379e-13\n",
      "  8.10239771e-13 1.60452182e-12 3.23632874e-12 8.07103338e-13\n",
      "  2.01629254e-13 8.08989271e-13 0.00000000e+00 1.60438016e-12\n",
      "  4.04655506e-13 8.07089812e-13 1.60923113e-12 2.51942912e-14\n",
      "  1.60419542e-12 4.03928917e-13 8.04885770e-13 4.02742048e-13\n",
      "  4.04726817e-13 8.05637975e-13 4.02619189e-13 8.05184551e-13\n",
      "  8.00939408e-13 2.01173703e-13 8.06972686e-13 1.61314476e-12\n",
      "  1.60736444e-12 1.62076825e-12 1.61399867e-12 1.60978444e-12\n",
      "  8.07175727e-13 8.09111027e-13 8.04238087e-13 5.79682153e-13\n",
      "  1.61308586e-12 8.07165072e-13 1.00610501e-13 8.02323799e-13\n",
      "  2.01083323e-13 1.14920515e-12 2.01786680e-13 0.00000000e+00\n",
      "  8.04762843e-13 8.08563693e-13 1.21325116e-12 4.02752235e-13\n",
      "  1.57910671e-12 4.36412125e-14 1.60333218e-12 4.02279998e-13\n",
      "  1.60988730e-12 8.07091919e-13 1.60592543e-12 2.52290984e-14\n",
      "  4.53137936e-13 8.06434428e-13 4.03164557e-13 3.96312667e-13\n",
      "  1.04967990e-12 5.74081094e-13 4.02112036e-13 3.66730641e-13\n",
      "  4.02911767e-13 1.61468957e-12 8.07040433e-13 1.40806830e-12\n",
      "  8.01823094e-13 1.60798831e-12 1.00651105e-13 5.02065799e-14\n",
      "  1.00786816e-13 8.06764416e-13 3.29496060e-13 1.00551437e-13\n",
      "  8.10266557e-13 1.61148100e-12 1.01777199e-12 2.01531239e-13]\n",
      " [3.58188207e-13 7.15192205e-13 3.57596103e-13 1.44212527e-12\n",
      "  7.17057965e-13 6.12424942e-13 3.62554344e-13 7.09873224e-13\n",
      "  9.69209087e-13 7.16586139e-13 4.40162738e-14 7.09873224e-13\n",
      "  7.05473270e-13 7.24814443e-13 7.08894918e-13 3.57887969e-13\n",
      "  3.54476074e-13 4.46852004e-14 4.38714931e-14 3.58003360e-13\n",
      "  1.76088482e-13 1.76088482e-13 4.41458746e-14 8.90087954e-14\n",
      "  2.20729373e-14 1.17209697e-13 8.78116113e-14 4.43095093e-14\n",
      "  1.12581563e-14 8.80325477e-14 4.49300211e-14 3.53350944e-16\n",
      "  4.49596665e-14 4.45043977e-14 2.19186782e-14 4.43095093e-14\n",
      "  8.41904336e-14 5.56778753e-15 2.20081369e-14 1.10798883e-14\n",
      "  1.11909429e-14 4.45043977e-14 2.19186782e-14 4.41458746e-14\n",
      "  4.45043977e-14 4.50173997e-14 4.38373564e-14 4.49596665e-14\n",
      "  2.22521988e-14 2.24650105e-14 1.13158614e-14 2.20729373e-14\n",
      "  1.13473827e-14 2.23426002e-14 1.09678733e-14 2.23426002e-14\n",
      "  2.74335439e-15 2.14253430e-14 1.09891433e-14 5.49912847e-15\n",
      "  8.77534786e-17 5.64244397e-15 7.19649531e-13 2.20485283e-14\n",
      "  6.36151070e-13 1.80193282e-13 7.03419667e-13 3.54040887e-13\n",
      "  7.16276522e-13 7.20661397e-13 0.00000000e+00 8.96725219e-14\n",
      "  3.53696652e-13 7.15766185e-13 1.42966382e-12 3.56649998e-13\n",
      "  9.01403609e-14 3.62244650e-13 0.00000000e+00 7.10272850e-13\n",
      "  1.77464182e-13 3.56731606e-13 7.23947279e-13 1.11221252e-14\n",
      "  7.16034965e-13 1.79966209e-13 3.52704896e-13 1.78751359e-13\n",
      "  1.78033793e-13 3.52014791e-13 1.80873602e-13 3.53890489e-13\n",
      "  3.57862669e-13 8.80992192e-14 3.61863573e-13 7.16424225e-13\n",
      "  7.12298719e-13 7.23838212e-13 7.12668825e-13 7.16543573e-13\n",
      "  3.61255382e-13 3.62203792e-13 3.53637349e-13 2.74686037e-13\n",
      "  7.24069865e-13 3.56577205e-13 4.50465507e-14 3.57480774e-13\n",
      "  9.06843795e-14 5.69057415e-13 8.90304174e-14 0.00000000e+00\n",
      "  3.60569020e-13 3.61876186e-13 5.76687608e-13 1.75939679e-13\n",
      "  6.69815115e-13 2.25405927e-14 7.21681520e-13 1.75746474e-13\n",
      "  7.14366769e-13 3.58897195e-13 7.03105936e-13 1.09763035e-14\n",
      "  1.99417467e-13 3.50883792e-13 1.77342099e-13 1.80094588e-13\n",
      "  5.11378376e-13 2.79103183e-13 1.80861787e-13 1.81210677e-13\n",
      "  1.76270565e-13 7.22013951e-13 3.51861020e-13 6.56339387e-13\n",
      "  3.57363286e-13 7.19366694e-13 4.35930771e-14 2.25333165e-14\n",
      "  4.44769579e-14 3.58346434e-13 1.54114850e-13 4.50297154e-14\n",
      "  3.58764973e-13 7.16793064e-13 5.02680180e-13 9.02869371e-14]]\n"
     ]
    }
   ],
   "source": [
    "# Display gradient descent's result\n",
    "print('Theta computed from gradient descent: \\n');\n",
    "print(theta);"
   ]
  },
  {
   "cell_type": "code",
   "execution_count": 22,
   "metadata": {},
   "outputs": [
    {
     "name": "stdout",
     "output_type": "stream",
     "text": [
      "Predicted number of shares: \n",
      " None\n",
      "True number of shares: 27000\n"
     ]
    }
   ],
   "source": [
    "# Predict the value of a a new input x = [515, 7]\n",
    "\n",
    "# ===========================================================\n",
    "# Recall you need to add the column of ones and normalize the input vector\n",
    "\n",
    "shares = None\n",
    "\n",
    "# ============================================================\n",
    "\n",
    "print('Predicted number of shares: \\n', shares)\n",
    "print('True number of shares: 27000')"
   ]
  },
  {
   "cell_type": "markdown",
   "metadata": {},
   "source": [
    "### Normal Equations\n",
    "\n",
    "\n",
    "We have seen that the closed-form solution to linear regression is\n",
    "\n",
    "$$ \\theta = \\left( X^T X\\right)^{-1} X^T {y}$$\n",
    "\n",
    "Using this formula does not require any feature scaling, and you will get an exact solution in one calculation: there is no \"loop until convergence” like in gradient descent.\n",
    "Complete the code below to use the formula to calculate $\\theta$. Remember that while you don’t need to scale your features, we still need to add a column of 1’s to the X matrix to have an intercept term ($\\theta_0$). "
   ]
  },
  {
   "cell_type": "code",
   "execution_count": 23,
   "metadata": {},
   "outputs": [],
   "source": [
    "# ================ Normal Equations ================\n",
    "\n",
    "# Load Data\n",
    "suma = (filtered_data[\"# of Links\"] + filtered_data['# of comments'].fillna(0) + filtered_data['# Images video'])\n",
    "\n",
    "dataX2 =  pd.DataFrame()\n",
    "dataX2[\"Word count\"] = filtered_data[\"Word count\"]\n",
    "dataX2[\"suma\"] = suma\n",
    "X = np.array(dataX2)\n",
    "y = filtered_data['# Shares'].values\n",
    "\n",
    "m = y.shape[0] # number of training examples\n",
    "\n",
    "# Add intercept term to X\n",
    "X = np.concatenate([np.ones((m, 1)), X], axis=1)"
   ]
  },
  {
   "cell_type": "markdown",
   "metadata": {},
   "source": [
    "Complete the cell below for the function `normalEqn`. You should use the formula above to calculate $\\theta$. "
   ]
  },
  {
   "cell_type": "code",
   "execution_count": 24,
   "metadata": {},
   "outputs": [],
   "source": [
    "def normalEqn(X, y):\n",
    "    theta = np.zeros(X.shape[1])\n",
    "    \n",
    "    # ================================================================\n",
    "    XTX_inv = np.linalg.pinv(np.dot(X.transpose(),X));\n",
    "\n",
    "    C = np.dot(X.transpose(),y);\n",
    "\n",
    "    theta = np.dot(XTX_inv,C);\n",
    "    \n",
    "    # =================================================================\n",
    "    return theta"
   ]
  },
  {
   "cell_type": "code",
   "execution_count": 25,
   "metadata": {},
   "outputs": [
    {
     "name": "stdout",
     "output_type": "stream",
     "text": [
      "Theta computed from the normal equation : \n",
      "\n",
      "[ 1.69218911e+04  6.63216324e+00 -4.83407538e+02]\n"
     ]
    }
   ],
   "source": [
    "# Calculate the parameters from the normal equation\n",
    "theta = normalEqn(X, y);\n",
    "\n",
    "#Display normal equation's result\n",
    "print('Theta computed from the normal equation : \\n');\n",
    "print(theta);"
   ]
  },
  {
   "cell_type": "code",
   "execution_count": 26,
   "metadata": {},
   "outputs": [
    {
     "name": "stdout",
     "output_type": "stream",
     "text": [
      "Predicted number of shares: (using normal equations)\n",
      " 16953.602403069577\n",
      "True number of shares: 27000\n"
     ]
    }
   ],
   "source": [
    "# Predict the value of a a new input x = [515, 7]\n",
    "\n",
    "# ============================================================\n",
    "# Recall you need to add the column of ones and normalize the input vector\n",
    "\n",
    "shares = np.dot([1, 515, 7],theta);\n",
    "\n",
    "# ============================================================\n",
    "\n",
    "print('Predicted number of shares: (using normal equations)\\n', shares)\n",
    "print('True number of shares: 27000')"
   ]
  },
  {
   "cell_type": "code",
   "execution_count": null,
   "metadata": {},
   "outputs": [],
   "source": []
  },
  {
   "cell_type": "code",
   "execution_count": null,
   "metadata": {},
   "outputs": [],
   "source": []
  }
 ],
 "metadata": {
  "anaconda-cloud": {},
  "kernelspec": {
   "display_name": "Python 3 (ipykernel)",
   "language": "python",
   "name": "python3"
  },
  "language_info": {
   "codemirror_mode": {
    "name": "ipython",
    "version": 3
   },
   "file_extension": ".py",
   "mimetype": "text/x-python",
   "name": "python",
   "nbconvert_exporter": "python",
   "pygments_lexer": "ipython3",
   "version": "3.9.7"
  }
 },
 "nbformat": 4,
 "nbformat_minor": 1
}
